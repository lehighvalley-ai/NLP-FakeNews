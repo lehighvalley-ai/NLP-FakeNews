{
  "nbformat": 4,
  "nbformat_minor": 0,
  "metadata": {
    "colab": {
      "name": "NLP-FakeNews.ipynb",
      "version": "0.3.2",
      "provenance": [],
      "collapsed_sections": []
    },
    "kernelspec": {
      "display_name": "Python 3",
      "language": "python",
      "name": "python3"
    },
    "accelerator": "GPU"
  },
  "cells": [
    {
      "metadata": {
        "id": "OMmMgpm5x86P",
        "colab_type": "text"
      },
      "cell_type": "markdown",
      "source": [
        "## NLP Project: Fake News Classifier ##\n",
        "\n",
        "- Learn the basics of NLP and classify Fake News (fake according to you!  You are lord and arbiter of truth over this model)\n",
        "- Implemented in [TensorFlow](https://www.tensorflow.org)\n",
        "- _2018/08/13_\n"
      ]
    },
    {
      "metadata": {
        "id": "NXIF4A6M5vGh",
        "colab_type": "text"
      },
      "cell_type": "markdown",
      "source": [
        "#### A Note About Memory ####\n",
        "\n",
        "- Each CoLab Session is allocated 13 GB of Memory.  For many operations, this is more than enough, however there are scenarios where we approach the limits of this available memory - e.g., Image/Video processing and very large Word Embeddings (as is the case with this Notebook).  If you should require more, then consider Google Cloud Engine (pay version) or Amazon AWS CPU or GPU instances with more memory."
      ]
    },
    {
      "metadata": {
        "id": "2UYrV7lG5BVV",
        "colab_type": "code",
        "colab": {
          "base_uri": "https://localhost:8080/",
          "height": 124
        },
        "outputId": "5273a889-5529-4c32-94f5-7182a2af99dd"
      },
      "cell_type": "code",
      "source": [
        "import os\n",
        "def print_memory_usage():\n",
        "  tot_m, used_m, free_m, shared_m, buff_cache_m, avail_m = map(int, os.popen('free -t -m').readlines()[1].split()[1:])\n",
        "  print(\"Total Memory (MB): {}\".format(tot_m))\n",
        "  print(\"Used Memory (MB): {}\".format(used_m))\n",
        "  print(\"Free Memory (MB): {}\".format(free_m))\n",
        "  print(\"Shared Memory (MB): {}\".format(shared_m))\n",
        "  print(\"Buff/Cache Memory (MB): {}\".format(buff_cache_m))\n",
        "  print(\"Available Memory (MB): {}\".format(avail_m))\n",
        "  \n",
        "print_memory_usage()"
      ],
      "execution_count": 29,
      "outputs": [
        {
          "output_type": "stream",
          "text": [
            "Total Memory (MB): 13022\n",
            "Used Memory (MB): 2705\n",
            "Free Memory (MB): 888\n",
            "Shared Memory (MB): 2427\n",
            "Buff/Cache Memory (MB): 9429\n",
            "Available Memory (MB): 8990\n"
          ],
          "name": "stdout"
        }
      ]
    },
    {
      "metadata": {
        "id": "viB9cqAJ0me6",
        "colab_type": "text"
      },
      "cell_type": "markdown",
      "source": [
        "#### Confirm GPU ####\n",
        "\n",
        "- Menu -> Runtime -> Change runtime type -> Hardware accelerator -> GPU -> Save\n",
        "- _GPU is free for 12 hr running session. If it terminates after this time, then just restart; infinite free sessions_"
      ]
    },
    {
      "metadata": {
        "id": "CFRPaj4K0iwO",
        "colab_type": "code",
        "colab": {
          "base_uri": "https://localhost:8080/",
          "height": 35
        },
        "outputId": "306784dd-6717-4ac6-db49-737b1751ca6f"
      },
      "cell_type": "code",
      "source": [
        "import tensorflow as tf\n",
        "device_name = tf.test.gpu_device_name()\n",
        "if device_name != '/device:GPU:0':\n",
        "  raise SystemError('GPU device not found')\n",
        "print('Found GPU at: {}'.format(device_name))"
      ],
      "execution_count": 30,
      "outputs": [
        {
          "output_type": "stream",
          "text": [
            "Found GPU at: /device:GPU:0\n"
          ],
          "name": "stdout"
        }
      ]
    },
    {
      "metadata": {
        "id": "0lS4bV4F1kzI",
        "colab_type": "text"
      },
      "cell_type": "markdown",
      "source": [
        "#### Download Word Embeddings ####\n",
        "\n",
        "#### *FastText* #### \n",
        "\n",
        "- Pre-trained word embeddings: 1 million word vectors trained on Wikipedia 2017, UMBC webbase corpus and statmt.org news dataset (16B tokens): https://fasttext.cc/docs/en/english-vectors.html\n",
        "- Click this Link and Add to your own Google Drive Account (_you should have 10 GB for free with any Google Account_): https://drive.google.com/open?id=1J4r1FoHwsfkePCHjzWr2T8ElYsmR9V9W . Then we will use PyDrive (see next few Cells below) to copy the 1 GB file from the Google Drive to this CoLab Notebook \"sandbox\"\n",
        "\n",
        "#### *Word2Vec* ####\n",
        "\n",
        "- Pre-trained vectors trained on part of Google News dataset (about 100 billion words). The model contains 300-dimensional vectors for 3 million words and phrases: https://code.google.com/archive/p/word2vec/\n",
        "- Click this Link and Add to your own Google Drive Account (_you should have 10 GB for free with any Google Account_):  https://drive.google.com/open?id=0B7XkCwpI5KDYNlNUTTlSS21pQmM . Then we will use PyDrive (see next few Cells below) to copy the 1.5 GB file from Google Drive to this CoLab Notebook \"sandbox\""
      ]
    },
    {
      "metadata": {
        "id": "uWCoHVnN17YD",
        "colab_type": "code",
        "colab": {
          "base_uri": "https://localhost:8080/",
          "height": 337
        },
        "outputId": "39eb692e-4df4-4196-b5ba-d6291d5dcf4b"
      },
      "cell_type": "code",
      "source": [
        "!pip install pydrive"
      ],
      "execution_count": 3,
      "outputs": [
        {
          "output_type": "stream",
          "text": [
            "Collecting pydrive\n",
            "\u001b[?25l  Downloading https://files.pythonhosted.org/packages/52/e0/0e64788e5dd58ce2d6934549676243dc69d982f198524be9b99e9c2a4fd5/PyDrive-1.3.1.tar.gz (987kB)\n",
            "\u001b[K    100% |████████████████████████████████| 993kB 9.7MB/s \n",
            "\u001b[?25hRequirement already satisfied: google-api-python-client>=1.2 in /usr/local/lib/python3.6/dist-packages (from pydrive) (1.6.7)\n",
            "Requirement already satisfied: oauth2client>=4.0.0 in /usr/local/lib/python3.6/dist-packages (from pydrive) (4.1.2)\n",
            "Requirement already satisfied: PyYAML>=3.0 in /usr/local/lib/python3.6/dist-packages (from pydrive) (3.13)\n",
            "Requirement already satisfied: httplib2<1dev,>=0.9.2 in /usr/local/lib/python3.6/dist-packages (from google-api-python-client>=1.2->pydrive) (0.11.3)\n",
            "Requirement already satisfied: six<2dev,>=1.6.1 in /usr/local/lib/python3.6/dist-packages (from google-api-python-client>=1.2->pydrive) (1.11.0)\n",
            "Requirement already satisfied: uritemplate<4dev,>=3.0.0 in /usr/local/lib/python3.6/dist-packages (from google-api-python-client>=1.2->pydrive) (3.0.0)\n",
            "Requirement already satisfied: pyasn1>=0.1.7 in /usr/local/lib/python3.6/dist-packages (from oauth2client>=4.0.0->pydrive) (0.4.4)\n",
            "Requirement already satisfied: rsa>=3.1.4 in /usr/local/lib/python3.6/dist-packages (from oauth2client>=4.0.0->pydrive) (3.4.2)\n",
            "Requirement already satisfied: pyasn1-modules>=0.0.5 in /usr/local/lib/python3.6/dist-packages (from oauth2client>=4.0.0->pydrive) (0.2.2)\n",
            "Building wheels for collected packages: pydrive\n",
            "  Running setup.py bdist_wheel for pydrive ... \u001b[?25l-\b \b\\\b \bdone\n",
            "\u001b[?25h  Stored in directory: /content/.cache/pip/wheels/fa/d2/9a/d3b6b506c2da98289e5d417215ce34b696db856643bad779f4\n",
            "Successfully built pydrive\n",
            "Installing collected packages: pydrive\n",
            "Successfully installed pydrive-1.3.1\n"
          ],
          "name": "stdout"
        }
      ]
    },
    {
      "metadata": {
        "id": "PUFSoexT2BbK",
        "colab_type": "code",
        "colab": {}
      },
      "cell_type": "code",
      "source": [
        "from pydrive.auth import GoogleAuth\n",
        "from pydrive.drive import GoogleDrive\n",
        "from google.colab import auth\n",
        "from oauth2client.client import GoogleCredentials\n",
        " \n",
        "auth.authenticate_user()\n",
        "gauth = GoogleAuth()\n",
        "gauth.credentials = GoogleCredentials.get_application_default()\n",
        "drive = GoogleDrive(gauth)"
      ],
      "execution_count": 0,
      "outputs": []
    },
    {
      "metadata": {
        "id": "W2it1wYb2MV2",
        "colab_type": "code",
        "colab": {}
      },
      "cell_type": "code",
      "source": [
        "def listGDrive():\n",
        "  file_list = drive.ListFile({'q': \"'root' in parents and trashed=false\"}).GetList()\n",
        "  for file1 in file_list:\n",
        "    print('title: %s, id: %s' % (file1['title'], file1['id']))\n",
        "    \n",
        "def saveToGDrive(filename):\n",
        "  file_obj = drive.CreateFile()\n",
        "  file_obj.SetContentFile(filename)\n",
        "  file_obj.Upload()"
      ],
      "execution_count": 0,
      "outputs": []
    },
    {
      "metadata": {
        "id": "lx-HG4J92U2g",
        "colab_type": "code",
        "colab": {
          "base_uri": "https://localhost:8080/",
          "height": 603
        },
        "outputId": "cfeddcdd-c19a-477b-be5e-9329f17bbc54"
      },
      "cell_type": "code",
      "source": [
        "listGDrive()"
      ],
      "execution_count": 6,
      "outputs": [
        {
          "output_type": "stream",
          "text": [
            "title: wiki-news-300d-1M.vec.bin, id: 1J4r1FoHwsfkePCHjzWr2T8ElYsmR9V9W\n",
            "title: fake.csv, id: 1L9WgiTqNj6cXuZOBNMxLC4Z1bafx2tAu\n",
            "title: image.jpeg, id: 1rRGDVhWMRkZn_92VN11teDm5gmYKsm5c\n",
            "title: resnet_v1.py, id: 1_nk0KdDHa5hcYW3yuh_a8fTd9me39G3H\n",
            "title: resnet_utils.py, id: 1sTcoyOZ1gC_P_zEn39HFJu1ME0PojCzU\n",
            "title: east_icdar2015_resnet_v1_50_rbox.zip, id: 1awu-75Df71htBE-OiZDom58enOTqUWwn\n",
            "title: PetProject-MobileNet.ipynb, id: 1RFr5mZgSZtBGv-qmGLjdG9Y7S_BFjXDB\n",
            "title: petproject.pb, id: 1QGPeD29NKGviTDok1PJx_VNPsI5mdpGF\n",
            "title: dataset.tar, id: 1KpZKb4O14u-dXrGNl1Wg-ekefHpDlrB0\n",
            "title: FinalProject.ipynb, id: 1TVHYYt18b_tb9Rqm5CVS_vSiRJwcmpbT\n",
            "title: 20180526-1.csv, id: 1UdzLGsv7L0CGMvuRenP1i032Sg8YGSwW\n",
            "title: X_test.pickle, id: 1pIpV1qFVfS_T2LL7e1CnhxySshBUUYYD\n",
            "title: weights-downsampled-1000-500-21-05-0.78.hdf5, id: 1MggOiet_L490SLE-wMqC2DHj-GKmVHv0\n",
            "title: training_data_downsampled.pickle, id: 1nKGp0dljtb6dzE39p3MuVVD6YRVlnY9K\n",
            "title: weights-1000-500-21-01-0.40.hdf5, id: 16Y03HuWAFcrrgCvUijSO79qzoePPd0XX\n",
            "title: training_data.pickle, id: 1X84CsmLgfm3NhVQqCmAfU5_nUrdqZvwG\n",
            "title: Copy of FinalProject.ipynb, id: 1VNoTlQCo0vopZGNer3itgFSVYRwY4hv7\n",
            "title: test.csv.gz, id: 1TuwccBQbiRiv0Y1Uc_ix4LZL_H-NFKp1\n",
            "title: sales_train.csv.gz, id: 1cCxspLXaU6dTtrtr5SP_5a7RD2TE0ObB\n",
            "title: items.csv, id: 12Z8TBuT6lasQKpja1TM7jBuVOWG_kp9i\n",
            "title: shops.csv, id: 19JobZXRF8sixPGr3O68M2Ol6cqG-qj_a\n",
            "title: item_categories.csv, id: 1hwSz13wJzOSNNOa6dldhJBBBXyHZxORR\n",
            "title: PyDrive-and-KaggleAPI.ipynb, id: 1JjHfvSdYadvuP4iv5hwjTf8kl7QH_PI3\n",
            "title: train.csv, id: 1GXKSBKxl8scDgU6wpA3amHEI6lEQARqc\n",
            "title: test.csv, id: 13F6SHuM3ukq1VDq_RWE16X3RkSM5DqZ2\n",
            "title: kaggle.json, id: 1XQYzuXa5bbTpEo55wrTI3aUKunL8GRvS\n",
            "title: cookies.txt, id: 1Dfw0bts0smorsEcI4xgQbZAQZWu5NrOR\n",
            "title: Zachary Mccoy's Job Search Plan (Udacity), id: 1HTaMGj8mcGx51RSniXgJIv5BpbxzKHgIK3Cnm4qnJJE\n",
            "title: 2018-04-18.pdf, id: 1tJa6hT2NhZbwT7R_hP2qAj_JcBn4VjDE\n",
            "title: Zachary Mccoy: Application Tracker, id: 1R3vuJx3uq-p8t0bCvAbpLNI0fN1L1EobVLTXnJlTG68\n",
            "title: NIHDenseNet.ipynb, id: 19xPYod29G7rx0UMilwJ-hKWZk-81sksR\n",
            "title: Colab Notebooks, id: 1_ekUeqjQd2ENq1I-TOJxTjB4WbUrvq8y\n",
            "title: GoogleNews-vectors-negative300.bin.gz, id: 0B7XkCwpI5KDYNlNUTTlSS21pQmM\n"
          ],
          "name": "stdout"
        }
      ]
    },
    {
      "metadata": {
        "id": "SWb1k3yGt71f",
        "colab_type": "code",
        "colab": {}
      },
      "cell_type": "code",
      "source": [
        "#!wget \"https://s3-us-west-1.amazonaws.com/fasttext-vectors/wiki-news-300d-1M.vec.zip\"\n",
        "#!unzip wiki-news-300d-1M.vec.zip\n",
        "#w2v = load_w2v(\"wiki-news-300d-1M.vec\", binary=False) \n",
        "#w2v.save_word2vec_format(\"wiki-news-300d-1M.vec.bin\", binary=True)\n",
        "#saveToGDrive(\"wiki-news-300d-1M.vec.bin\")"
      ],
      "execution_count": 0,
      "outputs": []
    },
    {
      "metadata": {
        "id": "s9zacEuQ2YnG",
        "colab_type": "code",
        "colab": {}
      },
      "cell_type": "code",
      "source": [
        "# your 'id' value will differ, so update this accordingly\n",
        "# it takes ~1 min to copy this 1.5 GB file from GDrive to this CoLab \"sandbox\"\n",
        "#file_obj = drive.CreateFile({'id': '0B7XkCwpI5KDYNlNUTTlSS21pQmM'})\n",
        "#file_obj.GetContentFile('GoogleNews-vectors-negative300.bin.gz')\n",
        "\n",
        "# it takes ~1 min to copy this 1 GB file from GDrive to this CoLab \"sandbox\"\n",
        "file_obj = drive.CreateFile({'id': '1J4r1FoHwsfkePCHjzWr2T8ElYsmR9V9W'})\n",
        "file_obj.GetContentFile('wiki-news-300d-1M.vec.bin')  "
      ],
      "execution_count": 0,
      "outputs": []
    },
    {
      "metadata": {
        "id": "8Ic2FAL22ikG",
        "colab_type": "code",
        "colab": {
          "base_uri": "https://localhost:8080/",
          "height": 354
        },
        "outputId": "10bc7d00-a7b7-4290-fb3b-2a64e58194f6"
      },
      "cell_type": "code",
      "source": [
        "ls"
      ],
      "execution_count": 32,
      "outputs": [
        {
          "output_type": "stream",
          "text": [
            "adc.json\r\n",
            "\u001b[0m\u001b[01;36mdatalab\u001b[0m@\r\n",
            "fake.csv\r\n",
            "keras-lstm-from-scratch-embedding.h5\r\n",
            "keras-lstm-pretrained-embedding-bidirectional-trainable.h5\r\n",
            "keras-lstm-pretrained-embedding.h5\r\n",
            "model_bidirectional\r\n",
            "model_from_scratch\r\n",
            "model_pt_frozen\r\n",
            "model_pt_trainable\r\n",
            "\u001b[01;34mnltk_data\u001b[0m/\r\n",
            "\u001b[01;34msample_data\u001b[0m/\r\n",
            "wiki-news-300d-1M.vec.bin\r\n",
            "wiki-news-300d-1M.vec.bin-p\r\n",
            "wiki-news-300d-1M.vec.bin-p.vectors.npy\r\n",
            "\u001b[01;34mX_train\u001b[0m/\r\n",
            "\u001b[01;34mX_valid\u001b[0m/\r\n",
            "\u001b[01;34my_train\u001b[0m/\r\n",
            "\u001b[01;34my_valid\u001b[0m/\r\n"
          ],
          "name": "stdout"
        }
      ]
    },
    {
      "metadata": {
        "id": "hGQlkBbZx86v",
        "colab_type": "code",
        "colab": {
          "base_uri": "https://localhost:8080/",
          "height": 357
        },
        "outputId": "d1e003f6-58ea-4bad-96c4-d70e7ac2ba8f"
      },
      "cell_type": "code",
      "source": [
        "!pip install gensim"
      ],
      "execution_count": 31,
      "outputs": [
        {
          "output_type": "stream",
          "text": [
            "Requirement already satisfied: gensim in /usr/local/lib/python3.6/dist-packages (3.5.0)\n",
            "Requirement already satisfied: smart-open>=1.2.1 in /usr/local/lib/python3.6/dist-packages (from gensim) (1.6.0)\n",
            "Requirement already satisfied: numpy>=1.11.3 in /usr/local/lib/python3.6/dist-packages (from gensim) (1.14.5)\n",
            "Requirement already satisfied: scipy>=0.18.1 in /usr/local/lib/python3.6/dist-packages (from gensim) (0.19.1)\n",
            "Requirement already satisfied: six>=1.5.0 in /usr/local/lib/python3.6/dist-packages (from gensim) (1.11.0)\n",
            "Requirement already satisfied: boto3 in /usr/local/lib/python3.6/dist-packages (from smart-open>=1.2.1->gensim) (1.7.77)\n",
            "Requirement already satisfied: requests in /usr/local/lib/python3.6/dist-packages (from smart-open>=1.2.1->gensim) (2.18.4)\n",
            "Requirement already satisfied: bz2file in /usr/local/lib/python3.6/dist-packages (from smart-open>=1.2.1->gensim) (0.98)\n",
            "Requirement already satisfied: boto>=2.32 in /usr/local/lib/python3.6/dist-packages (from smart-open>=1.2.1->gensim) (2.49.0)\n",
            "Requirement already satisfied: s3transfer<0.2.0,>=0.1.10 in /usr/local/lib/python3.6/dist-packages (from boto3->smart-open>=1.2.1->gensim) (0.1.13)\n",
            "Requirement already satisfied: jmespath<1.0.0,>=0.7.1 in /usr/local/lib/python3.6/dist-packages (from boto3->smart-open>=1.2.1->gensim) (0.9.3)\n",
            "Requirement already satisfied: botocore<1.11.0,>=1.10.77 in /usr/local/lib/python3.6/dist-packages (from boto3->smart-open>=1.2.1->gensim) (1.10.77)\n",
            "Requirement already satisfied: idna<2.7,>=2.5 in /usr/local/lib/python3.6/dist-packages (from requests->smart-open>=1.2.1->gensim) (2.6)\n",
            "Requirement already satisfied: urllib3<1.23,>=1.21.1 in /usr/local/lib/python3.6/dist-packages (from requests->smart-open>=1.2.1->gensim) (1.22)\n",
            "Requirement already satisfied: certifi>=2017.4.17 in /usr/local/lib/python3.6/dist-packages (from requests->smart-open>=1.2.1->gensim) (2018.8.13)\n",
            "Requirement already satisfied: chardet<3.1.0,>=3.0.2 in /usr/local/lib/python3.6/dist-packages (from requests->smart-open>=1.2.1->gensim) (3.0.4)\n",
            "Requirement already satisfied: docutils>=0.10 in /usr/local/lib/python3.6/dist-packages (from botocore<1.11.0,>=1.10.77->boto3->smart-open>=1.2.1->gensim) (0.14)\n",
            "Requirement already satisfied: python-dateutil<3.0.0,>=2.1; python_version >= \"2.7\" in /usr/local/lib/python3.6/dist-packages (from botocore<1.11.0,>=1.10.77->boto3->smart-open>=1.2.1->gensim) (2.5.3)\n"
          ],
          "name": "stdout"
        }
      ]
    },
    {
      "metadata": {
        "id": "TvlF4zP2WrIW",
        "colab_type": "text"
      },
      "cell_type": "markdown",
      "source": [
        "#### Hack Alert!  ####\n",
        "\n",
        "- Due to Memory limitations, we need to invoke the ***init_sims(replace=True)*** method because the pre-trained Word Embeddings are too large for the available (13 GB) CoLab Session Memory.  The pre-trained model will load fine, but when we attempt to lookup words, run operations related to the embedding matrix, or train our model using it then the CoLab Runtime crashes.  \n",
        "- This *DOES* impact what we can do in terms of training, because invoking that method with ***replace=True*** effectively makes the Embedding a read-only model.  We cannot *fine-tune* it while training our own dataset.\n",
        "- As for ***init_sims()*** is doing, it precomputes the L2-normalized vectors, and if you use ***replace=True*** then you're instructing the model to \"forget the original vectors and only keep the normalized ones = saves lots of memory\" (https://radimrehurek.com/gensim/models/keyedvectors.html#gensim.models.keyedvectors.Word2VecKeyedVectors.init_sims)"
      ]
    },
    {
      "metadata": {
        "id": "rh_NognA1qqF",
        "colab_type": "code",
        "colab": {}
      },
      "cell_type": "code",
      "source": [
        "from gensim.models import KeyedVectors\n",
        "def load_w2v(filepath,binary):\n",
        "  smaller_embedding = filepath+\"-p\"\n",
        "  if os.path.exists(smaller_embedding):\n",
        "    return KeyedVectors.load(smaller_embedding,mmap='r')\n",
        "  else:\n",
        "    w2v = KeyedVectors.load_word2vec_format(filepath, binary=binary)\n",
        "    w2v.init_sims(replace=True)\n",
        "    w2v.save(smaller_embedding)\n",
        "    return w2v"
      ],
      "execution_count": 0,
      "outputs": []
    },
    {
      "metadata": {
        "id": "rnp0ZXfTx866",
        "colab_type": "code",
        "colab": {
          "base_uri": "https://localhost:8080/",
          "height": 35
        },
        "outputId": "81231a2e-6ce4-4bc2-dca7-ea84a8be08d9"
      },
      "cell_type": "code",
      "source": [
        "# 1.5 GB; vocab=3000000; takes ~2-3 mins to load\n",
        "#w2v = load_w2v(\"GoogleNews-vectors-negative300.bin.gz\", binary=True)\n",
        "\n",
        "# 1 GB; vocab=999994; takes ~1 min to load\n",
        "w2v = load_w2v(\"wiki-news-300d-1M.vec.bin\", binary=True) \n",
        "print(len(w2v.vocab))"
      ],
      "execution_count": 34,
      "outputs": [
        {
          "output_type": "stream",
          "text": [
            "999994\n"
          ],
          "name": "stdout"
        }
      ]
    },
    {
      "metadata": {
        "id": "zvWdH2XC2kdX",
        "colab_type": "code",
        "colab": {
          "base_uri": "https://localhost:8080/",
          "height": 53
        },
        "outputId": "61ce15d5-83fe-4b3c-ff88-a2674d0c75ba"
      },
      "cell_type": "code",
      "source": [
        "ls"
      ],
      "execution_count": 15,
      "outputs": [
        {
          "output_type": "stream",
          "text": [
            "adc.json  \u001b[0m\u001b[01;34msample_data\u001b[0m/               wiki-news-300d-1M.vec.bin-p\r\n",
            "\u001b[01;36mdatalab\u001b[0m@  wiki-news-300d-1M.vec.bin  wiki-news-300d-1M.vec.bin-p.vectors.npy\r\n"
          ],
          "name": "stdout"
        }
      ]
    },
    {
      "metadata": {
        "id": "Z_Cogmg6ZBj5",
        "colab_type": "code",
        "colab": {
          "base_uri": "https://localhost:8080/",
          "height": 124
        },
        "outputId": "94bb7f87-201b-4bb0-c37a-db17f293aaba"
      },
      "cell_type": "code",
      "source": [
        "print_memory_usage()"
      ],
      "execution_count": 16,
      "outputs": [
        {
          "output_type": "stream",
          "text": [
            "Total Memory (MB): 13022\n",
            "Used Memory (MB): 4129\n",
            "Free Memory (MB): 178\n",
            "Shared Memory (MB): 250\n",
            "Buff/Cache Memory (MB): 8714\n",
            "Available Memory (MB): 9900\n"
          ],
          "name": "stdout"
        }
      ]
    },
    {
      "metadata": {
        "id": "jNv79Fh7Wg5h",
        "colab_type": "code",
        "colab": {
          "base_uri": "https://localhost:8080/",
          "height": 250
        },
        "outputId": "c403a5a6-e9f3-4eea-a835-c4826def5f9a"
      },
      "cell_type": "code",
      "source": [
        "# running any operation on the Word2Vec model the 1st time will take longer as it loads the Embeddings into memory\n",
        "w2v.similar_by_word(\"politician\")"
      ],
      "execution_count": 17,
      "outputs": [
        {
          "output_type": "stream",
          "text": [
            "/usr/local/lib/python3.6/dist-packages/gensim/matutils.py:737: FutureWarning: Conversion of the second argument of issubdtype from `int` to `np.signedinteger` is deprecated. In future, it will be treated as `np.int64 == np.dtype(int).type`.\n",
            "  if np.issubdtype(vec.dtype, np.int):\n"
          ],
          "name": "stderr"
        },
        {
          "output_type": "execute_result",
          "data": {
            "text/plain": [
              "[('politican', 0.791045606136322),\n",
              " ('businessman', 0.7711308598518372),\n",
              " ('Politician', 0.7632097005844116),\n",
              " ('statesman', 0.7551400661468506),\n",
              " ('politicians', 0.7359908819198608),\n",
              " ('legislator', 0.731412410736084),\n",
              " ('journalist', 0.7181966304779053),\n",
              " ('diplomat', 0.7125734090805054),\n",
              " ('poltician', 0.7027260661125183),\n",
              " ('lawyer', 0.6909956336021423)]"
            ]
          },
          "metadata": {
            "tags": []
          },
          "execution_count": 17
        }
      ]
    },
    {
      "metadata": {
        "id": "cKC9Ni12Ufsf",
        "colab_type": "code",
        "colab": {
          "base_uri": "https://localhost:8080/",
          "height": 126
        },
        "outputId": "fc0ac06f-35e6-4559-d96f-64c1e7451e3e"
      },
      "cell_type": "code",
      "source": [
        "# Word Embeddings even enable analogies (sometimes)!\n",
        "w2v.most_similar(positive=['woman', 'king'], negative=['man'], topn=3)"
      ],
      "execution_count": 18,
      "outputs": [
        {
          "output_type": "stream",
          "text": [
            "/usr/local/lib/python3.6/dist-packages/gensim/matutils.py:737: FutureWarning: Conversion of the second argument of issubdtype from `int` to `np.signedinteger` is deprecated. In future, it will be treated as `np.int64 == np.dtype(int).type`.\n",
            "  if np.issubdtype(vec.dtype, np.int):\n"
          ],
          "name": "stderr"
        },
        {
          "output_type": "execute_result",
          "data": {
            "text/plain": [
              "[('queen', 0.7515912055969238),\n",
              " ('monarch', 0.6741327047348022),\n",
              " ('princess', 0.6713887453079224)]"
            ]
          },
          "metadata": {
            "tags": []
          },
          "execution_count": 18
        }
      ]
    },
    {
      "metadata": {
        "id": "YKDPV7dcx87R",
        "colab_type": "code",
        "colab": {
          "base_uri": "https://localhost:8080/",
          "height": 1366
        },
        "outputId": "8d81dc2f-326b-437b-937a-e2d6974ab7a7"
      },
      "cell_type": "code",
      "source": [
        "# Let's take a look at how a Word Embedding is actually represented\n",
        "sample_word = w2v[\"the\"]\n",
        "print(sample_word.shape)\n",
        "print(sample_word)"
      ],
      "execution_count": 19,
      "outputs": [
        {
          "output_type": "stream",
          "text": [
            "(300,)\n",
            "[ 6.20136857e-02  1.10615278e-02 -3.94758247e-02  2.79994905e-02\n",
            " -4.81176451e-02 -8.55194330e-02  2.08094977e-02  1.71453673e-02\n",
            " -2.09477674e-02  1.20294113e-02  4.35547624e-03  1.27207562e-02\n",
            "  1.50021967e-02 -1.77675784e-02  2.41970904e-02 -1.67305600e-02\n",
            "  2.00490188e-03  1.29972938e-02 -3.94066907e-02  1.74219050e-02\n",
            " -1.45182544e-02 -5.53076330e-04  2.48884354e-02 -5.03990799e-02\n",
            " -4.59744744e-02  6.83740601e-02  4.67349514e-02  5.89026287e-02\n",
            " -6.15297444e-03  2.16391124e-02 -4.77028359e-03 -2.21230532e-03\n",
            " -3.19401585e-02  3.43598686e-02  1.80441160e-02  1.85280573e-02\n",
            " -2.14317087e-02 -9.40921083e-02 -4.28634183e-03  2.59254556e-02\n",
            " -2.21230555e-02 -7.32826162e-03  3.69178466e-02 -1.29281599e-02\n",
            "  4.41078395e-02  6.49864692e-03  3.24932346e-03 -3.66413072e-02\n",
            "  6.42951252e-03 -6.01470564e-03  2.76538165e-04  3.40833291e-02\n",
            " -4.35271084e-01  1.53478682e-02  1.31355627e-02  1.85280573e-02\n",
            " -2.94513144e-02  3.94066935e-03 -1.16353437e-01  1.68688279e-02\n",
            " -1.47256572e-02 -1.25133535e-02  2.91056447e-02 -2.13625748e-02\n",
            " -6.15297444e-03  2.21230532e-03  7.46653089e-03 -3.38759273e-03\n",
            "  1.78367123e-02  1.92194022e-02 -1.12689314e-02  1.38269085e-02\n",
            "  1.13380654e-02 -6.59543574e-02 -2.21230532e-03  2.97278562e-03\n",
            "  7.18999282e-03 -6.08384004e-03  4.83941811e-04  2.41970904e-02\n",
            " -1.42417168e-02 -5.73816709e-03 -7.88133871e-03 -1.29212469e-01\n",
            "  1.78367123e-02  6.91345485e-04  5.87643683e-03  1.04393167e-02\n",
            "  1.46910906e-01  4.90855286e-03  2.20539197e-02 -3.33228521e-02\n",
            "  4.29325514e-02  4.32782248e-02  1.09923929e-02 -8.98749102e-04\n",
            "  6.01470564e-03  4.74262983e-02 -2.35057459e-03  1.64540224e-02\n",
            " -3.12488154e-02 -1.36886397e-02  7.74306897e-03  7.53566530e-03\n",
            " -7.06555024e-02 -1.88045967e-02  1.61567435e-01 -3.21475640e-02\n",
            "  1.10062197e-01 -2.81377602e-02 -7.11394474e-02 -3.36685255e-02\n",
            " -4.67349514e-02  4.67349514e-02 -2.26761308e-02  2.23304573e-02\n",
            "  5.32335974e-03  1.31355627e-02  1.17528730e-03 -2.05606133e-01\n",
            "  7.60480005e-04 -2.46118978e-02  4.79102433e-02 -3.31845805e-02\n",
            " -5.67594580e-02 -4.45226468e-02 -1.96342114e-02 -1.32046975e-02\n",
            " -1.61083490e-02  2.44044960e-02 -3.20092961e-02  4.53522615e-02\n",
            "  1.31355633e-03 -1.46565232e-02 -2.13625748e-02 -2.44321480e-01\n",
            " -2.13625748e-02  5.25422534e-03 -2.89673749e-02  3.15944850e-02\n",
            " -2.11551711e-02  2.46810336e-02  4.61127385e-02  2.52963305e-01\n",
            "  1.03010470e-02 -3.06266043e-02  4.70114918e-03 -2.61328574e-02\n",
            "  1.00936433e-02  1.48639278e-02  7.47344419e-02  8.57268367e-03\n",
            " -3.02117951e-02 -2.97278557e-02  1.78367123e-02  1.47256572e-02\n",
            " -2.13625748e-02 -1.24442182e-03 -4.63201432e-03  1.18911425e-02\n",
            "  6.15297444e-03 -1.18220076e-02  1.90120004e-02 -3.58116962e-02\n",
            " -1.27207562e-01 -8.98749102e-03 -1.66614261e-02  3.63647714e-02\n",
            " -1.93576738e-02  3.52586200e-03  1.12689314e-02 -1.14072002e-02\n",
            "  1.11306617e-02  8.55194330e-02  5.55841736e-02 -5.45471571e-02\n",
            "  2.66859345e-02 -2.69071639e-01  1.08541232e-02 -1.70070976e-02\n",
            "  3.29771787e-02 -3.11105442e-03 -1.47947930e-02  1.19602764e-02\n",
            " -1.32046975e-02 -9.55439433e-02 -7.67393410e-03  4.92237955e-02\n",
            "  1.04669698e-01  2.01181527e-02  3.83696742e-02 -2.69624707e-03\n",
            "  1.93576724e-03 -1.91502683e-02 -1.90120004e-02 -1.22368140e-02\n",
            " -2.33674757e-02 -2.57180501e-02  1.43177643e-01  3.18018906e-02\n",
            " -2.03255564e-02  3.00735254e-02 -1.16837379e-02 -8.36527999e-03\n",
            "  1.74910389e-02  1.36886397e-02  6.34655133e-02  1.33429673e-02\n",
            "  4.61818762e-02  1.99107490e-02  2.76538194e-03 -3.03500667e-02\n",
            " -2.08786335e-02  4.42461064e-03  2.51649749e-02  3.75400558e-02\n",
            " -2.33674757e-02  1.09923929e-02  4.26560156e-02 -6.50556087e-02\n",
            " -5.94557123e-03 -6.36037812e-03  2.07403637e-02 -1.66614261e-02\n",
            " -2.41970904e-02 -4.29325514e-02  1.20985452e-02  2.58563198e-02\n",
            "  2.35057459e-03  2.37822849e-02  8.89070258e-02 -1.84589233e-02\n",
            "  1.28659397e-01  3.38067934e-02 -2.21230532e-03  1.24442177e-02\n",
            " -1.57626774e-02  1.66890800e-01 -6.46408051e-02  4.23103422e-02\n",
            " -1.44491196e-02  9.40229837e-03  2.71007419e-02 -9.33316350e-03\n",
            " -1.74910389e-02  2.31600739e-02  6.56778133e-03  2.89673749e-02\n",
            "  5.25422534e-03  3.12626421e-01 -1.29972938e-02  1.61083490e-02\n",
            " -3.27697769e-02  1.09923929e-02 -6.22210884e-03  1.83206536e-02\n",
            "  2.32292060e-02  1.52787343e-02  3.26315053e-02  3.31845833e-03\n",
            "  6.65074289e-02  2.37822849e-02 -3.56042907e-02 -6.01470564e-03\n",
            " -6.77518547e-02 -1.99107490e-02  2.60637235e-02  1.39651773e-02\n",
            " -2.05951810e-01 -2.67550685e-02 -1.36886397e-02 -1.11306617e-02\n",
            " -3.11105442e-03  6.01470564e-03 -2.67550685e-02  2.91056447e-02\n",
            "  2.64785308e-02  1.78367123e-02  4.77028359e-03 -2.06020940e-02\n",
            " -1.36886397e-02 -1.05084507e-02  2.28143996e-03  5.18509094e-03\n",
            "  2.47501656e-02 -1.07158544e-02 -7.67393410e-03  5.25422506e-02\n",
            " -3.12488154e-02  4.81867790e-02  2.06712279e-02 -2.00490188e-03\n",
            " -2.40588225e-02 -1.86663270e-02  2.42662262e-02  3.86462100e-02\n",
            "  4.08585146e-02  1.07780755e-01 -1.75601747e-02 -1.79058481e-02]\n"
          ],
          "name": "stdout"
        }
      ]
    },
    {
      "metadata": {
        "id": "3uqfqar_x86V",
        "colab_type": "code",
        "colab": {}
      },
      "cell_type": "code",
      "source": [
        "import numpy as np\n",
        "import pandas as pd\n",
        "\n",
        "from matplotlib import pyplot as plt\n",
        "%matplotlib inline"
      ],
      "execution_count": 0,
      "outputs": []
    },
    {
      "metadata": {
        "id": "UKRfZ6iG-xaA",
        "colab_type": "text"
      },
      "cell_type": "markdown",
      "source": [
        "#### Choose and Prepare your Dataset ####\n",
        "\n",
        "- Download the [CSV](https://www.kaggle.com/mrisdal/fake-news) and upload to your Google Drive (20 MB compressed, 56 MB regular), or Add it from mine (like with the Word Embeddings): https://drive.google.com/open?id=1L9WgiTqNj6cXuZOBNMxLC4Z1bafx2tAu\n",
        "\n",
        "\n",
        "- __TRY YOUR OWN DATASET !!! Collect Real and Fake News articles and \"label\" them as such __\n",
        "- Other possibilities (I didn't try it): \n",
        "  - https://github.com/OpenSourcesGroup/opensources\n",
        "  - https://www.kaggle.com/c/fake-news/data\n",
        "  - https://www.kaggle.com/ciotolaaaa/snopes-fake-legit-news"
      ]
    },
    {
      "metadata": {
        "id": "5kjxdm7VIG0M",
        "colab_type": "code",
        "colab": {
          "base_uri": "https://localhost:8080/",
          "height": 604
        },
        "outputId": "26bce8cf-483e-4334-84e4-458805525a1b"
      },
      "cell_type": "code",
      "source": [
        "listGDrive()"
      ],
      "execution_count": 21,
      "outputs": [
        {
          "output_type": "stream",
          "text": [
            "title: wiki-news-300d-1M.vec.bin, id: 1J4r1FoHwsfkePCHjzWr2T8ElYsmR9V9W\n",
            "title: fake.csv, id: 1L9WgiTqNj6cXuZOBNMxLC4Z1bafx2tAu\n",
            "title: image.jpeg, id: 1rRGDVhWMRkZn_92VN11teDm5gmYKsm5c\n",
            "title: resnet_v1.py, id: 1_nk0KdDHa5hcYW3yuh_a8fTd9me39G3H\n",
            "title: resnet_utils.py, id: 1sTcoyOZ1gC_P_zEn39HFJu1ME0PojCzU\n",
            "title: east_icdar2015_resnet_v1_50_rbox.zip, id: 1awu-75Df71htBE-OiZDom58enOTqUWwn\n",
            "title: PetProject-MobileNet.ipynb, id: 1RFr5mZgSZtBGv-qmGLjdG9Y7S_BFjXDB\n",
            "title: petproject.pb, id: 1QGPeD29NKGviTDok1PJx_VNPsI5mdpGF\n",
            "title: dataset.tar, id: 1KpZKb4O14u-dXrGNl1Wg-ekefHpDlrB0\n",
            "title: FinalProject.ipynb, id: 1TVHYYt18b_tb9Rqm5CVS_vSiRJwcmpbT\n",
            "title: 20180526-1.csv, id: 1UdzLGsv7L0CGMvuRenP1i032Sg8YGSwW\n",
            "title: X_test.pickle, id: 1pIpV1qFVfS_T2LL7e1CnhxySshBUUYYD\n",
            "title: weights-downsampled-1000-500-21-05-0.78.hdf5, id: 1MggOiet_L490SLE-wMqC2DHj-GKmVHv0\n",
            "title: training_data_downsampled.pickle, id: 1nKGp0dljtb6dzE39p3MuVVD6YRVlnY9K\n",
            "title: weights-1000-500-21-01-0.40.hdf5, id: 16Y03HuWAFcrrgCvUijSO79qzoePPd0XX\n",
            "title: training_data.pickle, id: 1X84CsmLgfm3NhVQqCmAfU5_nUrdqZvwG\n",
            "title: Copy of FinalProject.ipynb, id: 1VNoTlQCo0vopZGNer3itgFSVYRwY4hv7\n",
            "title: test.csv.gz, id: 1TuwccBQbiRiv0Y1Uc_ix4LZL_H-NFKp1\n",
            "title: sales_train.csv.gz, id: 1cCxspLXaU6dTtrtr5SP_5a7RD2TE0ObB\n",
            "title: items.csv, id: 12Z8TBuT6lasQKpja1TM7jBuVOWG_kp9i\n",
            "title: shops.csv, id: 19JobZXRF8sixPGr3O68M2Ol6cqG-qj_a\n",
            "title: item_categories.csv, id: 1hwSz13wJzOSNNOa6dldhJBBBXyHZxORR\n",
            "title: PyDrive-and-KaggleAPI.ipynb, id: 1JjHfvSdYadvuP4iv5hwjTf8kl7QH_PI3\n",
            "title: train.csv, id: 1GXKSBKxl8scDgU6wpA3amHEI6lEQARqc\n",
            "title: test.csv, id: 13F6SHuM3ukq1VDq_RWE16X3RkSM5DqZ2\n",
            "title: kaggle.json, id: 1XQYzuXa5bbTpEo55wrTI3aUKunL8GRvS\n",
            "title: cookies.txt, id: 1Dfw0bts0smorsEcI4xgQbZAQZWu5NrOR\n",
            "title: Zachary Mccoy's Job Search Plan (Udacity), id: 1HTaMGj8mcGx51RSniXgJIv5BpbxzKHgIK3Cnm4qnJJE\n",
            "title: 2018-04-18.pdf, id: 1tJa6hT2NhZbwT7R_hP2qAj_JcBn4VjDE\n",
            "title: Zachary Mccoy: Application Tracker, id: 1R3vuJx3uq-p8t0bCvAbpLNI0fN1L1EobVLTXnJlTG68\n",
            "title: NIHDenseNet.ipynb, id: 19xPYod29G7rx0UMilwJ-hKWZk-81sksR\n",
            "title: Colab Notebooks, id: 1_ekUeqjQd2ENq1I-TOJxTjB4WbUrvq8y\n",
            "title: GoogleNews-vectors-negative300.bin.gz, id: 0B7XkCwpI5KDYNlNUTTlSS21pQmM\n"
          ],
          "name": "stdout"
        }
      ]
    },
    {
      "metadata": {
        "id": "DZ3i7csvIdW-",
        "colab_type": "code",
        "colab": {}
      },
      "cell_type": "code",
      "source": [
        "# your 'id' value will differ, so update this accordingly\n",
        "file_obj = drive.CreateFile({'id': '1L9WgiTqNj6cXuZOBNMxLC4Z1bafx2tAu'})\n",
        "file_obj.GetContentFile('fake.csv') "
      ],
      "execution_count": 0,
      "outputs": []
    },
    {
      "metadata": {
        "id": "lfhH2A6XIigA",
        "colab_type": "code",
        "colab": {
          "base_uri": "https://localhost:8080/",
          "height": 70
        },
        "outputId": "df3272c8-46cc-44e5-c52f-7a789ee3d946"
      },
      "cell_type": "code",
      "source": [
        "ls"
      ],
      "execution_count": 22,
      "outputs": [
        {
          "output_type": "stream",
          "text": [
            "adc.json  \u001b[0m\u001b[01;34msample_data\u001b[0m/                 wiki-news-300d-1M.vec.bin-p.vectors.npy\r\n",
            "\u001b[01;36mdatalab\u001b[0m@  wiki-news-300d-1M.vec.bin\r\n",
            "fake.csv  wiki-news-300d-1M.vec.bin-p\r\n"
          ],
          "name": "stdout"
        }
      ]
    },
    {
      "metadata": {
        "id": "yjLsSLU1Ik_9",
        "colab_type": "code",
        "colab": {
          "base_uri": "https://localhost:8080/",
          "height": 591
        },
        "outputId": "0de83f87-7e46-4ed4-f884-7f3973eb2725"
      },
      "cell_type": "code",
      "source": [
        "df = pd.read_csv('fake.csv')\n",
        "df.head()"
      ],
      "execution_count": 37,
      "outputs": [
        {
          "output_type": "execute_result",
          "data": {
            "text/html": [
              "<div>\n",
              "<style scoped>\n",
              "    .dataframe tbody tr th:only-of-type {\n",
              "        vertical-align: middle;\n",
              "    }\n",
              "\n",
              "    .dataframe tbody tr th {\n",
              "        vertical-align: top;\n",
              "    }\n",
              "\n",
              "    .dataframe thead th {\n",
              "        text-align: right;\n",
              "    }\n",
              "</style>\n",
              "<table border=\"1\" class=\"dataframe\">\n",
              "  <thead>\n",
              "    <tr style=\"text-align: right;\">\n",
              "      <th></th>\n",
              "      <th>uuid</th>\n",
              "      <th>ord_in_thread</th>\n",
              "      <th>author</th>\n",
              "      <th>published</th>\n",
              "      <th>title</th>\n",
              "      <th>text</th>\n",
              "      <th>language</th>\n",
              "      <th>crawled</th>\n",
              "      <th>site_url</th>\n",
              "      <th>country</th>\n",
              "      <th>domain_rank</th>\n",
              "      <th>thread_title</th>\n",
              "      <th>spam_score</th>\n",
              "      <th>main_img_url</th>\n",
              "      <th>replies_count</th>\n",
              "      <th>participants_count</th>\n",
              "      <th>likes</th>\n",
              "      <th>comments</th>\n",
              "      <th>shares</th>\n",
              "      <th>type</th>\n",
              "    </tr>\n",
              "  </thead>\n",
              "  <tbody>\n",
              "    <tr>\n",
              "      <th>0</th>\n",
              "      <td>6a175f46bcd24d39b3e962ad0f29936721db70db</td>\n",
              "      <td>0</td>\n",
              "      <td>Barracuda Brigade</td>\n",
              "      <td>2016-10-26T21:41:00.000+03:00</td>\n",
              "      <td>Muslims BUSTED: They Stole Millions In Gov’t B...</td>\n",
              "      <td>Print They should pay all the back all the mon...</td>\n",
              "      <td>english</td>\n",
              "      <td>2016-10-27T01:49:27.168+03:00</td>\n",
              "      <td>100percentfedup.com</td>\n",
              "      <td>US</td>\n",
              "      <td>25689.0</td>\n",
              "      <td>Muslims BUSTED: They Stole Millions In Gov’t B...</td>\n",
              "      <td>0.000</td>\n",
              "      <td>http://bb4sp.com/wp-content/uploads/2016/10/Fu...</td>\n",
              "      <td>0</td>\n",
              "      <td>1</td>\n",
              "      <td>0</td>\n",
              "      <td>0</td>\n",
              "      <td>0</td>\n",
              "      <td>bias</td>\n",
              "    </tr>\n",
              "    <tr>\n",
              "      <th>1</th>\n",
              "      <td>2bdc29d12605ef9cf3f09f9875040a7113be5d5b</td>\n",
              "      <td>0</td>\n",
              "      <td>reasoning with facts</td>\n",
              "      <td>2016-10-29T08:47:11.259+03:00</td>\n",
              "      <td>Re: Why Did Attorney General Loretta Lynch Ple...</td>\n",
              "      <td>Why Did Attorney General Loretta Lynch Plead T...</td>\n",
              "      <td>english</td>\n",
              "      <td>2016-10-29T08:47:11.259+03:00</td>\n",
              "      <td>100percentfedup.com</td>\n",
              "      <td>US</td>\n",
              "      <td>25689.0</td>\n",
              "      <td>Re: Why Did Attorney General Loretta Lynch Ple...</td>\n",
              "      <td>0.000</td>\n",
              "      <td>http://bb4sp.com/wp-content/uploads/2016/10/Fu...</td>\n",
              "      <td>0</td>\n",
              "      <td>1</td>\n",
              "      <td>0</td>\n",
              "      <td>0</td>\n",
              "      <td>0</td>\n",
              "      <td>bias</td>\n",
              "    </tr>\n",
              "    <tr>\n",
              "      <th>2</th>\n",
              "      <td>c70e149fdd53de5e61c29281100b9de0ed268bc3</td>\n",
              "      <td>0</td>\n",
              "      <td>Barracuda Brigade</td>\n",
              "      <td>2016-10-31T01:41:49.479+02:00</td>\n",
              "      <td>BREAKING: Weiner Cooperating With FBI On Hilla...</td>\n",
              "      <td>Red State : \\nFox News Sunday reported this mo...</td>\n",
              "      <td>english</td>\n",
              "      <td>2016-10-31T01:41:49.479+02:00</td>\n",
              "      <td>100percentfedup.com</td>\n",
              "      <td>US</td>\n",
              "      <td>25689.0</td>\n",
              "      <td>BREAKING: Weiner Cooperating With FBI On Hilla...</td>\n",
              "      <td>0.000</td>\n",
              "      <td>http://bb4sp.com/wp-content/uploads/2016/10/Fu...</td>\n",
              "      <td>0</td>\n",
              "      <td>1</td>\n",
              "      <td>0</td>\n",
              "      <td>0</td>\n",
              "      <td>0</td>\n",
              "      <td>bias</td>\n",
              "    </tr>\n",
              "    <tr>\n",
              "      <th>3</th>\n",
              "      <td>7cf7c15731ac2a116dd7f629bd57ea468ed70284</td>\n",
              "      <td>0</td>\n",
              "      <td>Fed Up</td>\n",
              "      <td>2016-11-01T05:22:00.000+02:00</td>\n",
              "      <td>PIN DROP SPEECH BY FATHER OF DAUGHTER Kidnappe...</td>\n",
              "      <td>Email Kayla Mueller was a prisoner and torture...</td>\n",
              "      <td>english</td>\n",
              "      <td>2016-11-01T15:46:26.304+02:00</td>\n",
              "      <td>100percentfedup.com</td>\n",
              "      <td>US</td>\n",
              "      <td>25689.0</td>\n",
              "      <td>PIN DROP SPEECH BY FATHER OF DAUGHTER Kidnappe...</td>\n",
              "      <td>0.068</td>\n",
              "      <td>http://100percentfedup.com/wp-content/uploads/...</td>\n",
              "      <td>0</td>\n",
              "      <td>0</td>\n",
              "      <td>0</td>\n",
              "      <td>0</td>\n",
              "      <td>0</td>\n",
              "      <td>bias</td>\n",
              "    </tr>\n",
              "    <tr>\n",
              "      <th>4</th>\n",
              "      <td>0206b54719c7e241ffe0ad4315b808290dbe6c0f</td>\n",
              "      <td>0</td>\n",
              "      <td>Fed Up</td>\n",
              "      <td>2016-11-01T21:56:00.000+02:00</td>\n",
              "      <td>FANTASTIC! TRUMP'S 7 POINT PLAN To Reform Heal...</td>\n",
              "      <td>Email HEALTHCARE REFORM TO MAKE AMERICA GREAT ...</td>\n",
              "      <td>english</td>\n",
              "      <td>2016-11-01T23:59:42.266+02:00</td>\n",
              "      <td>100percentfedup.com</td>\n",
              "      <td>US</td>\n",
              "      <td>25689.0</td>\n",
              "      <td>FANTASTIC! TRUMP'S 7 POINT PLAN To Reform Heal...</td>\n",
              "      <td>0.865</td>\n",
              "      <td>http://100percentfedup.com/wp-content/uploads/...</td>\n",
              "      <td>0</td>\n",
              "      <td>0</td>\n",
              "      <td>0</td>\n",
              "      <td>0</td>\n",
              "      <td>0</td>\n",
              "      <td>bias</td>\n",
              "    </tr>\n",
              "  </tbody>\n",
              "</table>\n",
              "</div>"
            ],
            "text/plain": [
              "                                       uuid  ord_in_thread  \\\n",
              "0  6a175f46bcd24d39b3e962ad0f29936721db70db              0   \n",
              "1  2bdc29d12605ef9cf3f09f9875040a7113be5d5b              0   \n",
              "2  c70e149fdd53de5e61c29281100b9de0ed268bc3              0   \n",
              "3  7cf7c15731ac2a116dd7f629bd57ea468ed70284              0   \n",
              "4  0206b54719c7e241ffe0ad4315b808290dbe6c0f              0   \n",
              "\n",
              "                 author                      published  \\\n",
              "0     Barracuda Brigade  2016-10-26T21:41:00.000+03:00   \n",
              "1  reasoning with facts  2016-10-29T08:47:11.259+03:00   \n",
              "2     Barracuda Brigade  2016-10-31T01:41:49.479+02:00   \n",
              "3                Fed Up  2016-11-01T05:22:00.000+02:00   \n",
              "4                Fed Up  2016-11-01T21:56:00.000+02:00   \n",
              "\n",
              "                                               title  \\\n",
              "0  Muslims BUSTED: They Stole Millions In Gov’t B...   \n",
              "1  Re: Why Did Attorney General Loretta Lynch Ple...   \n",
              "2  BREAKING: Weiner Cooperating With FBI On Hilla...   \n",
              "3  PIN DROP SPEECH BY FATHER OF DAUGHTER Kidnappe...   \n",
              "4  FANTASTIC! TRUMP'S 7 POINT PLAN To Reform Heal...   \n",
              "\n",
              "                                                text language  \\\n",
              "0  Print They should pay all the back all the mon...  english   \n",
              "1  Why Did Attorney General Loretta Lynch Plead T...  english   \n",
              "2  Red State : \\nFox News Sunday reported this mo...  english   \n",
              "3  Email Kayla Mueller was a prisoner and torture...  english   \n",
              "4  Email HEALTHCARE REFORM TO MAKE AMERICA GREAT ...  english   \n",
              "\n",
              "                         crawled             site_url country  domain_rank  \\\n",
              "0  2016-10-27T01:49:27.168+03:00  100percentfedup.com      US      25689.0   \n",
              "1  2016-10-29T08:47:11.259+03:00  100percentfedup.com      US      25689.0   \n",
              "2  2016-10-31T01:41:49.479+02:00  100percentfedup.com      US      25689.0   \n",
              "3  2016-11-01T15:46:26.304+02:00  100percentfedup.com      US      25689.0   \n",
              "4  2016-11-01T23:59:42.266+02:00  100percentfedup.com      US      25689.0   \n",
              "\n",
              "                                        thread_title  spam_score  \\\n",
              "0  Muslims BUSTED: They Stole Millions In Gov’t B...       0.000   \n",
              "1  Re: Why Did Attorney General Loretta Lynch Ple...       0.000   \n",
              "2  BREAKING: Weiner Cooperating With FBI On Hilla...       0.000   \n",
              "3  PIN DROP SPEECH BY FATHER OF DAUGHTER Kidnappe...       0.068   \n",
              "4  FANTASTIC! TRUMP'S 7 POINT PLAN To Reform Heal...       0.865   \n",
              "\n",
              "                                        main_img_url  replies_count  \\\n",
              "0  http://bb4sp.com/wp-content/uploads/2016/10/Fu...              0   \n",
              "1  http://bb4sp.com/wp-content/uploads/2016/10/Fu...              0   \n",
              "2  http://bb4sp.com/wp-content/uploads/2016/10/Fu...              0   \n",
              "3  http://100percentfedup.com/wp-content/uploads/...              0   \n",
              "4  http://100percentfedup.com/wp-content/uploads/...              0   \n",
              "\n",
              "   participants_count  likes  comments  shares  type  \n",
              "0                   1      0         0       0  bias  \n",
              "1                   1      0         0       0  bias  \n",
              "2                   1      0         0       0  bias  \n",
              "3                   0      0         0       0  bias  \n",
              "4                   0      0         0       0  bias  "
            ]
          },
          "metadata": {
            "tags": []
          },
          "execution_count": 37
        }
      ]
    },
    {
      "metadata": {
        "id": "R-5FvsGQ3NNh",
        "colab_type": "code",
        "colab": {
          "base_uri": "https://localhost:8080/",
          "height": 283
        },
        "outputId": "3426baf7-366a-4d0b-9211-b6e679c01987"
      },
      "cell_type": "code",
      "source": [
        "# Let's check out samples by type\n",
        "df.type.value_counts().plot(kind='barh')"
      ],
      "execution_count": 25,
      "outputs": [
        {
          "output_type": "execute_result",
          "data": {
            "text/plain": [
              "<matplotlib.axes._subplots.AxesSubplot at 0x7f01279e3390>"
            ]
          },
          "metadata": {
            "tags": []
          },
          "execution_count": 25
        },
        {
          "output_type": "display_data",
          "data": {
            "image/png": "[encoded data removed]",
            "text/plain": [
              "<matplotlib.figure.Figure at 0x7f0127d44a90>"
            ]
          },
          "metadata": {
            "tags": []
          }
        }
      ]
    },
    {
      "metadata": {
        "id": "werfLS2m5khY",
        "colab_type": "code",
        "colab": {
          "base_uri": "https://localhost:8080/",
          "height": 195
        },
        "outputId": "4d3cbacf-02c2-4a5e-c547-2b7f8127c463"
      },
      "cell_type": "code",
      "source": [
        "# It's VERY unbalanced!!\n",
        "df.groupby([\"type\"]).size()"
      ],
      "execution_count": 26,
      "outputs": [
        {
          "output_type": "execute_result",
          "data": {
            "text/plain": [
              "type\n",
              "bias            443\n",
              "bs            11492\n",
              "conspiracy      430\n",
              "fake             19\n",
              "hate            246\n",
              "junksci         102\n",
              "satire          146\n",
              "state           121\n",
              "dtype: int64"
            ]
          },
          "metadata": {
            "tags": []
          },
          "execution_count": 26
        }
      ]
    },
    {
      "metadata": {
        "id": "Wv0ea_NiM2AQ",
        "colab_type": "code",
        "colab": {
          "base_uri": "https://localhost:8080/",
          "height": 195
        },
        "outputId": "95e40ab1-aebb-4ea7-ded9-10a58e158c79"
      },
      "cell_type": "code",
      "source": [
        "# Let's downsample the 'bs' type\n",
        "COUNT=443 # this is 2nd most value ('bias')\n",
        "df_bs = df[(df['type']=='bs')].tail(COUNT)\n",
        "df = df[(df[\"type\"]!='bs')]\n",
        "df = pd.concat([df, df_bs], ignore_index=True)\n",
        "df.groupby([\"type\"]).size()"
      ],
      "execution_count": 38,
      "outputs": [
        {
          "output_type": "execute_result",
          "data": {
            "text/plain": [
              "type\n",
              "bias          443\n",
              "bs            443\n",
              "conspiracy    430\n",
              "fake           19\n",
              "hate          246\n",
              "junksci       102\n",
              "satire        146\n",
              "state         121\n",
              "dtype: int64"
            ]
          },
          "metadata": {
            "tags": []
          },
          "execution_count": 38
        }
      ]
    },
    {
      "metadata": {
        "id": "iMNZGUvfwXC7",
        "colab_type": "code",
        "colab": {
          "base_uri": "https://localhost:8080/",
          "height": 53
        },
        "outputId": "39ee957e-8327-4565-a0ee-547ddc98d0a3"
      },
      "cell_type": "code",
      "source": [
        "# drop rows with NaN for column 'text'\n",
        "print(df.shape)\n",
        "df.dropna(subset=['text'], inplace=True)\n",
        "print(df.shape) # 46 rows dropped"
      ],
      "execution_count": 39,
      "outputs": [
        {
          "output_type": "stream",
          "text": [
            "(1950, 20)\n",
            "(1904, 20)\n"
          ],
          "name": "stdout"
        }
      ]
    },
    {
      "metadata": {
        "id": "JPyZdhMn2B_9",
        "colab_type": "code",
        "colab": {
          "base_uri": "https://localhost:8080/",
          "height": 53
        },
        "outputId": "d576a5f6-183a-421e-c663-b9f133717c85"
      },
      "cell_type": "code",
      "source": [
        "# let's only use 'english' language articles for now\n",
        "print(df.shape)\n",
        "df = df[(df['language']=='english')]\n",
        "print(df.shape) # 5 rows dropped"
      ],
      "execution_count": 40,
      "outputs": [
        {
          "output_type": "stream",
          "text": [
            "(1904, 20)\n",
            "(1899, 20)\n"
          ],
          "name": "stdout"
        }
      ]
    },
    {
      "metadata": {
        "id": "9xPjF-QDJtv_",
        "colab_type": "code",
        "colab": {
          "base_uri": "https://localhost:8080/",
          "height": 656
        },
        "outputId": "bf1e6277-65cd-4044-93df-c85091f209e6"
      },
      "cell_type": "code",
      "source": [
        "print(df.shape)\n",
        "df['text_word_count'] = df['text'].apply(lambda xx: int(len(str(xx).split(' '))))\n",
        "print(df.shape) # added a new dimension per our new column\n",
        "df.head()"
      ],
      "execution_count": 41,
      "outputs": [
        {
          "output_type": "stream",
          "text": [
            "(1899, 20)\n",
            "(1899, 21)\n"
          ],
          "name": "stdout"
        },
        {
          "output_type": "execute_result",
          "data": {
            "text/html": [
              "<div>\n",
              "<style scoped>\n",
              "    .dataframe tbody tr th:only-of-type {\n",
              "        vertical-align: middle;\n",
              "    }\n",
              "\n",
              "    .dataframe tbody tr th {\n",
              "        vertical-align: top;\n",
              "    }\n",
              "\n",
              "    .dataframe thead th {\n",
              "        text-align: right;\n",
              "    }\n",
              "</style>\n",
              "<table border=\"1\" class=\"dataframe\">\n",
              "  <thead>\n",
              "    <tr style=\"text-align: right;\">\n",
              "      <th></th>\n",
              "      <th>uuid</th>\n",
              "      <th>ord_in_thread</th>\n",
              "      <th>author</th>\n",
              "      <th>published</th>\n",
              "      <th>title</th>\n",
              "      <th>text</th>\n",
              "      <th>language</th>\n",
              "      <th>crawled</th>\n",
              "      <th>site_url</th>\n",
              "      <th>country</th>\n",
              "      <th>...</th>\n",
              "      <th>thread_title</th>\n",
              "      <th>spam_score</th>\n",
              "      <th>main_img_url</th>\n",
              "      <th>replies_count</th>\n",
              "      <th>participants_count</th>\n",
              "      <th>likes</th>\n",
              "      <th>comments</th>\n",
              "      <th>shares</th>\n",
              "      <th>type</th>\n",
              "      <th>text_word_count</th>\n",
              "    </tr>\n",
              "  </thead>\n",
              "  <tbody>\n",
              "    <tr>\n",
              "      <th>0</th>\n",
              "      <td>6a175f46bcd24d39b3e962ad0f29936721db70db</td>\n",
              "      <td>0</td>\n",
              "      <td>Barracuda Brigade</td>\n",
              "      <td>2016-10-26T21:41:00.000+03:00</td>\n",
              "      <td>Muslims BUSTED: They Stole Millions In Gov’t B...</td>\n",
              "      <td>Print They should pay all the back all the mon...</td>\n",
              "      <td>english</td>\n",
              "      <td>2016-10-27T01:49:27.168+03:00</td>\n",
              "      <td>100percentfedup.com</td>\n",
              "      <td>US</td>\n",
              "      <td>...</td>\n",
              "      <td>Muslims BUSTED: They Stole Millions In Gov’t B...</td>\n",
              "      <td>0.000</td>\n",
              "      <td>http://bb4sp.com/wp-content/uploads/2016/10/Fu...</td>\n",
              "      <td>0</td>\n",
              "      <td>1</td>\n",
              "      <td>0</td>\n",
              "      <td>0</td>\n",
              "      <td>0</td>\n",
              "      <td>bias</td>\n",
              "      <td>87</td>\n",
              "    </tr>\n",
              "    <tr>\n",
              "      <th>1</th>\n",
              "      <td>2bdc29d12605ef9cf3f09f9875040a7113be5d5b</td>\n",
              "      <td>0</td>\n",
              "      <td>reasoning with facts</td>\n",
              "      <td>2016-10-29T08:47:11.259+03:00</td>\n",
              "      <td>Re: Why Did Attorney General Loretta Lynch Ple...</td>\n",
              "      <td>Why Did Attorney General Loretta Lynch Plead T...</td>\n",
              "      <td>english</td>\n",
              "      <td>2016-10-29T08:47:11.259+03:00</td>\n",
              "      <td>100percentfedup.com</td>\n",
              "      <td>US</td>\n",
              "      <td>...</td>\n",
              "      <td>Re: Why Did Attorney General Loretta Lynch Ple...</td>\n",
              "      <td>0.000</td>\n",
              "      <td>http://bb4sp.com/wp-content/uploads/2016/10/Fu...</td>\n",
              "      <td>0</td>\n",
              "      <td>1</td>\n",
              "      <td>0</td>\n",
              "      <td>0</td>\n",
              "      <td>0</td>\n",
              "      <td>bias</td>\n",
              "      <td>277</td>\n",
              "    </tr>\n",
              "    <tr>\n",
              "      <th>2</th>\n",
              "      <td>c70e149fdd53de5e61c29281100b9de0ed268bc3</td>\n",
              "      <td>0</td>\n",
              "      <td>Barracuda Brigade</td>\n",
              "      <td>2016-10-31T01:41:49.479+02:00</td>\n",
              "      <td>BREAKING: Weiner Cooperating With FBI On Hilla...</td>\n",
              "      <td>Red State : \\nFox News Sunday reported this mo...</td>\n",
              "      <td>english</td>\n",
              "      <td>2016-10-31T01:41:49.479+02:00</td>\n",
              "      <td>100percentfedup.com</td>\n",
              "      <td>US</td>\n",
              "      <td>...</td>\n",
              "      <td>BREAKING: Weiner Cooperating With FBI On Hilla...</td>\n",
              "      <td>0.000</td>\n",
              "      <td>http://bb4sp.com/wp-content/uploads/2016/10/Fu...</td>\n",
              "      <td>0</td>\n",
              "      <td>1</td>\n",
              "      <td>0</td>\n",
              "      <td>0</td>\n",
              "      <td>0</td>\n",
              "      <td>bias</td>\n",
              "      <td>226</td>\n",
              "    </tr>\n",
              "    <tr>\n",
              "      <th>3</th>\n",
              "      <td>7cf7c15731ac2a116dd7f629bd57ea468ed70284</td>\n",
              "      <td>0</td>\n",
              "      <td>Fed Up</td>\n",
              "      <td>2016-11-01T05:22:00.000+02:00</td>\n",
              "      <td>PIN DROP SPEECH BY FATHER OF DAUGHTER Kidnappe...</td>\n",
              "      <td>Email Kayla Mueller was a prisoner and torture...</td>\n",
              "      <td>english</td>\n",
              "      <td>2016-11-01T15:46:26.304+02:00</td>\n",
              "      <td>100percentfedup.com</td>\n",
              "      <td>US</td>\n",
              "      <td>...</td>\n",
              "      <td>PIN DROP SPEECH BY FATHER OF DAUGHTER Kidnappe...</td>\n",
              "      <td>0.068</td>\n",
              "      <td>http://100percentfedup.com/wp-content/uploads/...</td>\n",
              "      <td>0</td>\n",
              "      <td>0</td>\n",
              "      <td>0</td>\n",
              "      <td>0</td>\n",
              "      <td>0</td>\n",
              "      <td>bias</td>\n",
              "      <td>49</td>\n",
              "    </tr>\n",
              "    <tr>\n",
              "      <th>4</th>\n",
              "      <td>0206b54719c7e241ffe0ad4315b808290dbe6c0f</td>\n",
              "      <td>0</td>\n",
              "      <td>Fed Up</td>\n",
              "      <td>2016-11-01T21:56:00.000+02:00</td>\n",
              "      <td>FANTASTIC! TRUMP'S 7 POINT PLAN To Reform Heal...</td>\n",
              "      <td>Email HEALTHCARE REFORM TO MAKE AMERICA GREAT ...</td>\n",
              "      <td>english</td>\n",
              "      <td>2016-11-01T23:59:42.266+02:00</td>\n",
              "      <td>100percentfedup.com</td>\n",
              "      <td>US</td>\n",
              "      <td>...</td>\n",
              "      <td>FANTASTIC! TRUMP'S 7 POINT PLAN To Reform Heal...</td>\n",
              "      <td>0.865</td>\n",
              "      <td>http://100percentfedup.com/wp-content/uploads/...</td>\n",
              "      <td>0</td>\n",
              "      <td>0</td>\n",
              "      <td>0</td>\n",
              "      <td>0</td>\n",
              "      <td>0</td>\n",
              "      <td>bias</td>\n",
              "      <td>333</td>\n",
              "    </tr>\n",
              "  </tbody>\n",
              "</table>\n",
              "<p>5 rows × 21 columns</p>\n",
              "</div>"
            ],
            "text/plain": [
              "                                       uuid  ord_in_thread  \\\n",
              "0  6a175f46bcd24d39b3e962ad0f29936721db70db              0   \n",
              "1  2bdc29d12605ef9cf3f09f9875040a7113be5d5b              0   \n",
              "2  c70e149fdd53de5e61c29281100b9de0ed268bc3              0   \n",
              "3  7cf7c15731ac2a116dd7f629bd57ea468ed70284              0   \n",
              "4  0206b54719c7e241ffe0ad4315b808290dbe6c0f              0   \n",
              "\n",
              "                 author                      published  \\\n",
              "0     Barracuda Brigade  2016-10-26T21:41:00.000+03:00   \n",
              "1  reasoning with facts  2016-10-29T08:47:11.259+03:00   \n",
              "2     Barracuda Brigade  2016-10-31T01:41:49.479+02:00   \n",
              "3                Fed Up  2016-11-01T05:22:00.000+02:00   \n",
              "4                Fed Up  2016-11-01T21:56:00.000+02:00   \n",
              "\n",
              "                                               title  \\\n",
              "0  Muslims BUSTED: They Stole Millions In Gov’t B...   \n",
              "1  Re: Why Did Attorney General Loretta Lynch Ple...   \n",
              "2  BREAKING: Weiner Cooperating With FBI On Hilla...   \n",
              "3  PIN DROP SPEECH BY FATHER OF DAUGHTER Kidnappe...   \n",
              "4  FANTASTIC! TRUMP'S 7 POINT PLAN To Reform Heal...   \n",
              "\n",
              "                                                text language  \\\n",
              "0  Print They should pay all the back all the mon...  english   \n",
              "1  Why Did Attorney General Loretta Lynch Plead T...  english   \n",
              "2  Red State : \\nFox News Sunday reported this mo...  english   \n",
              "3  Email Kayla Mueller was a prisoner and torture...  english   \n",
              "4  Email HEALTHCARE REFORM TO MAKE AMERICA GREAT ...  english   \n",
              "\n",
              "                         crawled             site_url country       ...        \\\n",
              "0  2016-10-27T01:49:27.168+03:00  100percentfedup.com      US       ...         \n",
              "1  2016-10-29T08:47:11.259+03:00  100percentfedup.com      US       ...         \n",
              "2  2016-10-31T01:41:49.479+02:00  100percentfedup.com      US       ...         \n",
              "3  2016-11-01T15:46:26.304+02:00  100percentfedup.com      US       ...         \n",
              "4  2016-11-01T23:59:42.266+02:00  100percentfedup.com      US       ...         \n",
              "\n",
              "                                        thread_title spam_score  \\\n",
              "0  Muslims BUSTED: They Stole Millions In Gov’t B...      0.000   \n",
              "1  Re: Why Did Attorney General Loretta Lynch Ple...      0.000   \n",
              "2  BREAKING: Weiner Cooperating With FBI On Hilla...      0.000   \n",
              "3  PIN DROP SPEECH BY FATHER OF DAUGHTER Kidnappe...      0.068   \n",
              "4  FANTASTIC! TRUMP'S 7 POINT PLAN To Reform Heal...      0.865   \n",
              "\n",
              "                                        main_img_url replies_count  \\\n",
              "0  http://bb4sp.com/wp-content/uploads/2016/10/Fu...             0   \n",
              "1  http://bb4sp.com/wp-content/uploads/2016/10/Fu...             0   \n",
              "2  http://bb4sp.com/wp-content/uploads/2016/10/Fu...             0   \n",
              "3  http://100percentfedup.com/wp-content/uploads/...             0   \n",
              "4  http://100percentfedup.com/wp-content/uploads/...             0   \n",
              "\n",
              "   participants_count  likes  comments  shares  type text_word_count  \n",
              "0                   1      0         0       0  bias              87  \n",
              "1                   1      0         0       0  bias             277  \n",
              "2                   1      0         0       0  bias             226  \n",
              "3                   0      0         0       0  bias              49  \n",
              "4                   0      0         0       0  bias             333  \n",
              "\n",
              "[5 rows x 21 columns]"
            ]
          },
          "metadata": {
            "tags": []
          },
          "execution_count": 41
        }
      ]
    },
    {
      "metadata": {
        "id": "AxdfiHiNLzgF",
        "colab_type": "code",
        "colab": {
          "base_uri": "https://localhost:8080/",
          "height": 177
        },
        "outputId": "a42f8a9f-3c96-4a4b-ecbc-43b8aeb15f0f"
      },
      "cell_type": "code",
      "source": [
        "df['text_word_count'].describe()"
      ],
      "execution_count": 31,
      "outputs": [
        {
          "output_type": "execute_result",
          "data": {
            "text/plain": [
              "count    1899.000000\n",
              "mean      477.065824\n",
              "std       575.407703\n",
              "min         1.000000\n",
              "25%       122.500000\n",
              "50%       339.000000\n",
              "75%       620.500000\n",
              "max      7837.000000\n",
              "Name: text_word_count, dtype: float64"
            ]
          },
          "metadata": {
            "tags": []
          },
          "execution_count": 31
        }
      ]
    },
    {
      "metadata": {
        "id": "XZcPSNSpSvO8",
        "colab_type": "code",
        "colab": {
          "base_uri": "https://localhost:8080/",
          "height": 35
        },
        "outputId": "92fa8275-c262-4b5d-8595-1469f759fa5a"
      },
      "cell_type": "code",
      "source": [
        "# Remove upper outliers, in terms of article word count (this is for the sake of performance; dimensionality reduction)\n",
        "Q1 = 122\n",
        "Q3 = 620\n",
        "IQR = Q3-Q1\n",
        "outliers_upper = int(Q3 + 1.5*IQR)\n",
        "print(outliers_upper)\n",
        "df = df[(df['text_word_count'] < outliers_upper)]"
      ],
      "execution_count": 42,
      "outputs": [
        {
          "output_type": "stream",
          "text": [
            "1367\n"
          ],
          "name": "stdout"
        }
      ]
    },
    {
      "metadata": {
        "id": "HoW9F3lox87J",
        "colab_type": "code",
        "colab": {
          "base_uri": "https://localhost:8080/",
          "height": 70
        },
        "outputId": "20210ab4-6518-4358-8994-eb44e03e87ef"
      },
      "cell_type": "code",
      "source": [
        "MAX_SEQUENCE_LENGTH = df['text_word_count'].max() # based on our inputs above; max count of 'text' words in this case\n",
        "print(MAX_SEQUENCE_LENGTH) # 1366\n",
        "MAX_NB_WORDS = len(w2v.vocab)\n",
        "print(MAX_NB_WORDS) # 999994 # 3000000\n",
        "EMBEDDING_DIM = w2v[\"the\"].shape[0] #w2v=300, fastText=300; GloVe=50\n",
        "print(EMBEDDING_DIM) # 300"
      ],
      "execution_count": 49,
      "outputs": [
        {
          "output_type": "stream",
          "text": [
            "1366\n",
            "999994\n",
            "300\n"
          ],
          "name": "stdout"
        }
      ]
    },
    {
      "metadata": {
        "id": "3M_XkNYgvWYY",
        "colab_type": "text"
      },
      "cell_type": "markdown",
      "source": [
        "#### Stop Words ####\n",
        "\n",
        "\"Sometimes, some extremely common words which would appear to be of little value in helping select documents matching a user need are excluded from the vocabulary entirely. These words are called stop words.\" (https://nlp.stanford.edu/IR-book/html/htmledition/dropping-common-terms-stop-words-1.html)"
      ]
    },
    {
      "metadata": {
        "id": "2YmJ-_xyGZ6d",
        "colab_type": "code",
        "colab": {
          "base_uri": "https://localhost:8080/",
          "height": 53
        },
        "outputId": "34f7e631-41f9-48d8-bbd8-29ab0ca525d6"
      },
      "cell_type": "code",
      "source": [
        "import nltk\n",
        "nltk.download('stopwords')\n",
        "from nltk.corpus import stopwords"
      ],
      "execution_count": 50,
      "outputs": [
        {
          "output_type": "stream",
          "text": [
            "[nltk_data] Downloading package stopwords to /content/nltk_data...\n",
            "[nltk_data]   Package stopwords is already up-to-date!\n"
          ],
          "name": "stdout"
        }
      ]
    },
    {
      "metadata": {
        "id": "vsMWUmumx87k",
        "colab_type": "code",
        "colab": {
          "base_uri": "https://localhost:8080/",
          "height": 55
        },
        "outputId": "ee8f7a14-d2dd-4985-eb40-b5eebf002c70"
      },
      "cell_type": "code",
      "source": [
        "print(stopwords.words('english'))"
      ],
      "execution_count": 51,
      "outputs": [
        {
          "output_type": "stream",
          "text": [
            "['i', 'me', 'my', 'myself', 'we', 'our', 'ours', 'ourselves', 'you', \"you're\", \"you've\", \"you'll\", \"you'd\", 'your', 'yours', 'yourself', 'yourselves', 'he', 'him', 'his', 'himself', 'she', \"she's\", 'her', 'hers', 'herself', 'it', \"it's\", 'its', 'itself', 'they', 'them', 'their', 'theirs', 'themselves', 'what', 'which', 'who', 'whom', 'this', 'that', \"that'll\", 'these', 'those', 'am', 'is', 'are', 'was', 'were', 'be', 'been', 'being', 'have', 'has', 'had', 'having', 'do', 'does', 'did', 'doing', 'a', 'an', 'the', 'and', 'but', 'if', 'or', 'because', 'as', 'until', 'while', 'of', 'at', 'by', 'for', 'with', 'about', 'against', 'between', 'into', 'through', 'during', 'before', 'after', 'above', 'below', 'to', 'from', 'up', 'down', 'in', 'out', 'on', 'off', 'over', 'under', 'again', 'further', 'then', 'once', 'here', 'there', 'when', 'where', 'why', 'how', 'all', 'any', 'both', 'each', 'few', 'more', 'most', 'other', 'some', 'such', 'no', 'nor', 'not', 'only', 'own', 'same', 'so', 'than', 'too', 'very', 's', 't', 'can', 'will', 'just', 'don', \"don't\", 'should', \"should've\", 'now', 'd', 'll', 'm', 'o', 're', 've', 'y', 'ain', 'aren', \"aren't\", 'couldn', \"couldn't\", 'didn', \"didn't\", 'doesn', \"doesn't\", 'hadn', \"hadn't\", 'hasn', \"hasn't\", 'haven', \"haven't\", 'isn', \"isn't\", 'ma', 'mightn', \"mightn't\", 'mustn', \"mustn't\", 'needn', \"needn't\", 'shan', \"shan't\", 'shouldn', \"shouldn't\", 'wasn', \"wasn't\", 'weren', \"weren't\", 'won', \"won't\", 'wouldn', \"wouldn't\"]\n"
          ],
          "name": "stdout"
        }
      ]
    },
    {
      "metadata": {
        "id": "bIQXIo_PKklz",
        "colab_type": "code",
        "colab": {}
      },
      "cell_type": "code",
      "source": [
        "from keras.preprocessing.text import text_to_word_sequence\n",
        "from keras.preprocessing.text import Tokenizer\n",
        "from keras.preprocessing.sequence import pad_sequences\n",
        "\n",
        "def get_stop_words():\n",
        "  ''' if you want your own stop list\n",
        "  path = \"stop-words-list.txt\"\n",
        "  stop_words = []\n",
        "  with codecs.open(path, \"r\", encoding=\"utf-8\", errors=\"ignore\") as myfile:\n",
        "    stop_words = myfile.readlines()\n",
        "  stop_words = [word.strip() for word in stop_words]\n",
        "  return stop_words\n",
        "  '''\n",
        "  return stopwords.words('english')\n",
        "\n",
        "def get_label(type):\n",
        "  if type is \"satire\":\n",
        "    return np.array([0, 0, 0, 0, 0, 0, 0, 1])\n",
        "  elif type is \"state\":\n",
        "    return np.array([0, 0, 0, 0, 0, 0, 1, 0])\n",
        "  elif type is \"junksci\":\n",
        "    return np.array([0, 0, 0, 0, 0, 1, 0, 0])\n",
        "  elif type is \"hate\":\n",
        "    return np.array([0, 0, 0, 0, 1, 0, 0, 0])\n",
        "  elif type is \"fake\":\n",
        "    return np.array([0, 0, 0, 1, 0, 0, 0, 0])\n",
        "  elif type is \"conspiracy\":\n",
        "    return np.array([0, 0, 1, 0, 0, 0, 0, 0])\n",
        "  elif type is \"bias\":\n",
        "    return np.array([0, 1, 0, 0, 0, 0, 0, 0])\n",
        "  elif type is \"bs\":\n",
        "    return np.array([1, 0, 0, 0, 0, 0, 0, 0])\n",
        "  else: # real news\n",
        "    return np.array([0, 0, 0, 0, 0, 0, 0, 0])\n",
        "  \n",
        "def get_text(text):\n",
        "  text_words = []\n",
        "  words = text.split(\" \")\n",
        "  stop_words = get_stop_words()\n",
        "  for word in words:\n",
        "    if word not in stop_words:\n",
        "      text_words.append(word)\n",
        "  return ' '.join(text_words)\n",
        "\n",
        "def get_text_sequences(texts):\n",
        "  tokenizer = Tokenizer(num_words=MAX_NB_WORDS)\n",
        "  tokenizer.fit_on_texts(texts)\n",
        "  sequences = tokenizer.texts_to_sequences(texts)\n",
        "  word_index = tokenizer.word_index\n",
        "  #print('Found %s unique tokens.' % len(word_index))\n",
        "  data = pad_sequences(sequences, maxlen=MAX_SEQUENCE_LENGTH)\n",
        "  return data, word_index\n",
        "  \n",
        "def get_data(df):\n",
        "  texts = []\n",
        "  labels = []\n",
        "  texts_df = df['text'].values\n",
        "  labels_df = df['type'].values\n",
        "  for ii in range(len(texts_df)):\n",
        "    texts.append(get_text(texts_df[ii]))\n",
        "    labels.append(get_label(labels_df[ii]))\n",
        "  sequences, word_index = get_text_sequences(texts)\n",
        "  return sequences, np.array(labels), word_index\n",
        "\n",
        "def get_data_encoded(df):\n",
        "  texts = []\n",
        "  labels = []\n",
        "  texts_df = df['text'].values\n",
        "  labels_df = df['type'].values\n",
        "  padded_texts = []\n",
        "  unknown_words = []\n",
        "  for ii in range(len(texts_df)):\n",
        "    word_sequences = text_to_word_sequence(texts_df[ii],\n",
        "      filters='ا\\n\\ufeff\\xa0!\"#$%&()*+,-./:;<=>?@[\\\\]^_`{|}~\\t',\n",
        "      lower=True,\n",
        "      split=\" \")\n",
        "    vecs = []\n",
        "    for word in word_sequences:\n",
        "      stop_words = get_stop_words()\n",
        "      if word not in stop_words:\n",
        "        try:\n",
        "          vecs.append(w2v[word])\n",
        "        except KeyError:\n",
        "          # TODO: incrementally update w2v with OOVs (out-of-vocabularies)\n",
        "          #print(\"' \" + str(word) + \"' not in vocabulary\")\n",
        "          unknown_words.append(word)\n",
        "      texts.append(vecs)  \n",
        "      labels.append(get_label(labels_df[ii]))\n",
        "  padded_vectors = sequence.pad_sequences(texts, maxlen=MAX_SEQUENCE_LENGTH)\n",
        "  return np.array(padded_texts), np.array(labels), unknown_words  "
      ],
      "execution_count": 0,
      "outputs": []
    },
    {
      "metadata": {
        "id": "ewVOR_KJ6Viy",
        "colab_type": "code",
        "colab": {
          "base_uri": "https://localhost:8080/",
          "height": 179
        },
        "outputId": "aee168fd-a663-472e-fb61-2ec927c0a86f"
      },
      "cell_type": "code",
      "source": [
        "!pip install wordcloud"
      ],
      "execution_count": 37,
      "outputs": [
        {
          "output_type": "stream",
          "text": [
            "Collecting wordcloud\n",
            "\u001b[?25l  Downloading https://files.pythonhosted.org/packages/ae/af/849edf14d573eba9c8082db898ff0d090428d9485371cc4fe21a66717ad2/wordcloud-1.5.0-cp36-cp36m-manylinux1_x86_64.whl (361kB)\n",
            "\u001b[K    100% |████████████████████████████████| 368kB 7.7MB/s \n",
            "\u001b[?25hRequirement already satisfied: pillow in /usr/local/lib/python3.6/dist-packages (from wordcloud) (4.0.0)\n",
            "Requirement already satisfied: numpy>=1.6.1 in /usr/local/lib/python3.6/dist-packages (from wordcloud) (1.14.5)\n",
            "Requirement already satisfied: olefile in /usr/local/lib/python3.6/dist-packages (from pillow->wordcloud) (0.45.1)\n",
            "Installing collected packages: wordcloud\n",
            "Successfully installed wordcloud-1.5.0\n"
          ],
          "name": "stdout"
        }
      ]
    },
    {
      "metadata": {
        "id": "1h0YWAk16L0m",
        "colab_type": "code",
        "colab": {
          "base_uri": "https://localhost:8080/",
          "height": 219
        },
        "outputId": "8a7624d9-85f6-4296-e4e7-0231c083ca9d"
      },
      "cell_type": "code",
      "source": [
        "# Let's take a quick look at some of our dataset\n",
        "from wordcloud import WordCloud\n",
        "cloud_satire = WordCloud(stopwords=stopwords.words('english'), max_font_size=40\n",
        "                        ).generate(\" \".join(df[(df['type']=='satire')]['text'].values))\n",
        "plt.imshow(cloud_satire, interpolation=\"bilinear\")\n",
        "plt.axis('off')\n",
        "plt.show()"
      ],
      "execution_count": 38,
      "outputs": [
        {
          "output_type": "display_data",
          "data": {
            "image/png": "[encoded data removed]",
            "text/plain": [
              "<matplotlib.figure.Figure at 0x7f0120bf1f98>"
            ]
          },
          "metadata": {
            "tags": []
          }
        }
      ]
    },
    {
      "metadata": {
        "id": "hA2y32MXJ9pP",
        "colab_type": "code",
        "colab": {}
      },
      "cell_type": "code",
      "source": [
        "train_test_split = 0.8\n",
        "df_shuffled = df.sample(frac=1)\n",
        "DATA_SPLIT = int(df_shuffled.shape[0]*train_test_split)"
      ],
      "execution_count": 0,
      "outputs": []
    },
    {
      "metadata": {
        "id": "i8WGrxhlIa4p",
        "colab_type": "code",
        "colab": {
          "base_uri": "https://localhost:8080/",
          "height": 124
        },
        "outputId": "f8d63d39-a434-4155-e5c3-5da6191d0523"
      },
      "cell_type": "code",
      "source": [
        "X_train, y_train, word_index_train = get_data(df_shuffled[:DATA_SPLIT])\n",
        "print(X_train.shape)\n",
        "print(y_train.shape)\n",
        "print(len(word_index_train))\n",
        "X_valid, y_valid, word_index_valid = get_data(df_shuffled[DATA_SPLIT:])\n",
        "print(X_valid.shape)\n",
        "print(y_valid.shape)\n",
        "print(len(word_index_valid))"
      ],
      "execution_count": 54,
      "outputs": [
        {
          "output_type": "stream",
          "text": [
            "(1428, 1366)\n",
            "(1428, 8)\n",
            "32239\n",
            "(357, 1366)\n",
            "(357, 8)\n",
            "14612\n"
          ],
          "name": "stdout"
        }
      ]
    },
    {
      "metadata": {
        "id": "DrMkfyjgF6e5",
        "colab_type": "code",
        "colab": {
          "base_uri": "https://localhost:8080/",
          "height": 35
        },
        "outputId": "527d5770-793e-4a98-8061-8fc7fa891842"
      },
      "cell_type": "code",
      "source": [
        "word_index = {}\n",
        "for wi in (word_index_train, word_index_valid): \n",
        "  word_index.update(wi)\n",
        "print(len(word_index))"
      ],
      "execution_count": 55,
      "outputs": [
        {
          "output_type": "stream",
          "text": [
            "35486\n"
          ],
          "name": "stdout"
        }
      ]
    },
    {
      "metadata": {
        "id": "dnhYZE0Ox88F",
        "colab_type": "code",
        "colab": {
          "base_uri": "https://localhost:8080/",
          "height": 35
        },
        "outputId": "835a7a4d-6cf9-483a-b8ef-597dfdd1e070"
      },
      "cell_type": "code",
      "source": [
        "def create_embedding_matrix(word_index):\n",
        "  nb_words = min(MAX_NB_WORDS, len(word_index))+1\n",
        "  embedding_matrix = np.zeros((nb_words, EMBEDDING_DIM),dtype=\"float32\")\n",
        "  for word, ii in word_index.items():\n",
        "    if word in w2v.vocab:\n",
        "      embedding_matrix[ii] = w2v.word_vec(word)\n",
        "  return embedding_matrix\n",
        "\n",
        "embedding_matrix = create_embedding_matrix(word_index)\n",
        "print(embedding_matrix.shape)"
      ],
      "execution_count": 79,
      "outputs": [
        {
          "output_type": "stream",
          "text": [
            "(35487, 300)\n"
          ],
          "name": "stdout"
        }
      ]
    },
    {
      "metadata": {
        "id": "tVWLezQeBg-C",
        "colab_type": "text"
      },
      "cell_type": "markdown",
      "source": [
        "#### !! RUNTIME CRASH !! ####"
      ]
    },
    {
      "metadata": {
        "id": "YJTkma9Tx879",
        "colab_type": "code",
        "colab": {}
      },
      "cell_type": "code",
      "source": [
        "X_train_enc, y_train, unk_train = get_data_encoded(df_shuffled[:DATA_SPLIT])\n",
        "print(X_train_enc.shape)\n",
        "print(y_train.shape)\n",
        "print(len(unk_train))\n",
        "X_valid_enc, y_valid, unk_valid = get_data_encoded(df_shuffled[DATA_SPLIT:])\n",
        "print(X_valid_enc.shape)\n",
        "print(y_valid.shape)\n",
        "print(len(unk_valid))"
      ],
      "execution_count": 0,
      "outputs": []
    },
    {
      "metadata": {
        "id": "SN5rQQbbbUCq",
        "colab_type": "code",
        "colab": {}
      },
      "cell_type": "code",
      "source": [
        "import numpy as np\n",
        "\n",
        "from matplotlib import pyplot as plt\n",
        "%matplotlib inline\n",
        "\n",
        "from keras.models import Model, Sequential\n",
        "from keras.layers import Dense, Input, Dropout, LSTM, Activation\n",
        "from keras.layers import Bidirectional, GlobalMaxPool1D\n",
        "from keras.layers.embeddings import Embedding\n",
        "from keras.preprocessing import sequence\n",
        "from keras.initializers import glorot_uniform"
      ],
      "execution_count": 0,
      "outputs": []
    },
    {
      "metadata": {
        "id": "0OWy7MhIx88d",
        "colab_type": "code",
        "colab": {}
      },
      "cell_type": "code",
      "source": [
        "NUM_OUTPUTS = 8 # corresponds to the One-Hot Encodings of our labels\n",
        "\n",
        "def get_model_pretrained_embedding(trainable=False):\n",
        "    weights_filename = \"keras-lstm-pretrained-embedding.h5\"\n",
        "    if trainable is True:\n",
        "        weights_filename = \"keras-lstm-pretrained-embedding-trainable.h5\"\n",
        "    embedding_layer = w2v.get_keras_embedding(train_embeddings=trainable)\n",
        "    #print(embedding_layer.input_dim)\n",
        "    #print(embedding_layer.output_dim)\n",
        "    return get_model_embedding(embedding_layer), weights_filename\n",
        "    \n",
        "def get_model_from_scratch_embedding():\n",
        "    embedding_layer = Embedding(len(word_index)+1, EMBEDDING_DIM, input_length=MAX_SEQUENCE_LENGTH)\n",
        "    #print(embedding_layer.input_dim)\n",
        "    #print(embedding_layer.output_dim)\n",
        "    return get_model_embedding(embedding_layer), \"keras-lstm-from-scratch-embedding.h5\"\n",
        "    \n",
        "def get_model_embedding(embedding_layer):\n",
        "    sentence_indices = Input(shape=(MAX_SEQUENCE_LENGTH,),dtype='int32')\n",
        "    embeddings = embedding_layer(sentence_indices)   \n",
        "    # Propagate the embeddings through an LSTM layer with 128-dimensional hidden state\n",
        "    # Returned output should be a batch of sequences.\n",
        "    X = LSTM(128, return_sequences=True)(embeddings)\n",
        "    X = Dropout(0.5)(X)\n",
        "    # Returned output should be a single hidden state, not a batch of sequences.\n",
        "    X = LSTM(128)(X)\n",
        "    X = Dropout(0.5)(X)\n",
        "    X = Dense(NUM_OUTPUTS)(X)\n",
        "    X = Activation('softmax')(X)\n",
        "    model = Model(inputs=sentence_indices,outputs=X)\n",
        "    return model  \n",
        "\n",
        "def get_model_no_embedding():\n",
        "    model = Sequential()\n",
        "    model.add(LSTM(128, return_sequences=True, input_shape=(MAX_SEQUENCE_LENGTH,EMBEDDING_DIM)))\n",
        "    model.add(Dropout(0.5))\n",
        "    model.add(LSTM(128))\n",
        "    model.add(Dropout(0.5))\n",
        "    model.add(Dense(NUM_OUTPUTS))\n",
        "    model.add(Activation('softmax'))\n",
        "    return model, \"keras-lstm-no-embedding.h5\"\n",
        "\n",
        "def get_model_pretrained_embedding_bidirectional():\n",
        "    sentence_indices = Input(shape=(MAX_SEQUENCE_LENGTH,),dtype='int32')\n",
        "    embedding_layer = Embedding(len(word_index)+1, EMBEDDING_DIM, weights=[embedding_matrix], input_length=MAX_SEQUENCE_LENGTH, trainable=True)\n",
        "    embeddings = embedding_layer(sentence_indices)   \n",
        "    X = Bidirectional(LSTM(60, return_sequences=True, dropout=0.1, recurrent_dropout=0.1))(embeddings)\n",
        "    X = GlobalMaxPool1D()(X)\n",
        "    X = Dropout(0.1)(X)\n",
        "    X = Dense(50)(X)\n",
        "    X = Activation(\"relu\")(X)\n",
        "    X = Dropout(0.1)(X)\n",
        "    X = Dense(NUM_OUTPUTS)(X)\n",
        "    X = Activation('softmax')(X)\n",
        "    model = Model(inputs=sentence_indices,outputs=X)\n",
        "    return model, \"keras-lstm-pretrained-embedding-bidirectional-trainable.h5\""
      ],
      "execution_count": 0,
      "outputs": []
    },
    {
      "metadata": {
        "id": "tOOPH_Odx88k",
        "colab_type": "text"
      },
      "cell_type": "markdown",
      "source": [
        "#### DIFFERENT APPROACHES #### \n",
        "\n",
        " 1. Learn embedding from scratch - simply add an Embedding layer to your model\n",
        " 1. Fine tune learned embeddings - this involves setting word2vec / GloVe vectors as your Embedding layer's weights.\n",
        " 1. Use word word2vec / Glove word vectors as inputs to your model, instead of one-hot encoding.\n",
        " \n",
        " \n",
        " - (Bidirectional) -see: https://www.kaggle.com/sbongo/do-pretrained-embeddings-give-you-the-extra-edge\n"
      ]
    },
    {
      "metadata": {
        "id": "nd0qO6sSx88o",
        "colab_type": "code",
        "colab": {
          "base_uri": "https://localhost:8080/",
          "height": 496
        },
        "outputId": "b14ffbf6-1d64-4f0b-c7bb-eb2e360ca858"
      },
      "cell_type": "code",
      "source": [
        "#1\n",
        "model_from_scratch, weights_from_scratch = get_model_from_scratch_embedding()\n",
        "#2A\n",
        "model_pt_frozen, weights_pt_frozen = get_model_pretrained_embedding()\n",
        "#2B\n",
        "model_pt_trainable, weights_pt_trainable = get_model_pretrained_embedding(trainable=True)\n",
        "#3\n",
        "#model_no_embedding, weights_no_embedding = get_model_no_embedding()\n",
        "# Bidirectional\n",
        "model_bidirectional, weights_bidirectional = get_model_pretrained_embedding_bidirectional()\n",
        "#model.load_weights(weights_filepath)\n",
        "model_bidirectional.summary()"
      ],
      "execution_count": 47,
      "outputs": [
        {
          "output_type": "stream",
          "text": [
            "_________________________________________________________________\n",
            "Layer (type)                 Output Shape              Param #   \n",
            "=================================================================\n",
            "input_4 (InputLayer)         (None, 1366)              0         \n",
            "_________________________________________________________________\n",
            "embedding_4 (Embedding)      (None, 1366, 300)         10646100  \n",
            "_________________________________________________________________\n",
            "bidirectional_1 (Bidirection (None, 1366, 120)         173280    \n",
            "_________________________________________________________________\n",
            "global_max_pooling1d_1 (Glob (None, 120)               0         \n",
            "_________________________________________________________________\n",
            "dropout_7 (Dropout)          (None, 120)               0         \n",
            "_________________________________________________________________\n",
            "dense_4 (Dense)              (None, 50)                6050      \n",
            "_________________________________________________________________\n",
            "activation_4 (Activation)    (None, 50)                0         \n",
            "_________________________________________________________________\n",
            "dropout_8 (Dropout)          (None, 50)                0         \n",
            "_________________________________________________________________\n",
            "dense_5 (Dense)              (None, 8)                 408       \n",
            "_________________________________________________________________\n",
            "activation_5 (Activation)    (None, 8)                 0         \n",
            "=================================================================\n",
            "Total params: 10,825,838\n",
            "Trainable params: 10,825,838\n",
            "Non-trainable params: 0\n",
            "_________________________________________________________________\n"
          ],
          "name": "stdout"
        }
      ]
    },
    {
      "metadata": {
        "id": "tw2d9xJFZWNR",
        "colab_type": "text"
      },
      "cell_type": "markdown",
      "source": [
        "#### Save Datasets #### \n",
        "\n",
        "- Save Datasets to disk and re-open after 'Restart runtime' (workaround to free memory for training)"
      ]
    },
    {
      "metadata": {
        "id": "AXJlc5khZ7GJ",
        "colab_type": "code",
        "colab": {
          "base_uri": "https://localhost:8080/",
          "height": 195
        },
        "outputId": "b2c2b337-efbe-483f-833b-da88b9620774"
      },
      "cell_type": "code",
      "source": [
        "!pip install bcolz"
      ],
      "execution_count": 43,
      "outputs": [
        {
          "output_type": "stream",
          "text": [
            "Collecting bcolz\n",
            "\u001b[?25l  Downloading https://files.pythonhosted.org/packages/5c/4e/23942de9d5c0fb16f10335fa83e52b431bcb8c0d4a8419c9ac206268c279/bcolz-1.2.1.tar.gz (1.5MB)\n",
            "\u001b[K    100% |████████████████████████████████| 1.5MB 9.0MB/s \n",
            "\u001b[?25hRequirement already satisfied: numpy>=1.7 in /usr/local/lib/python3.6/dist-packages (from bcolz) (1.14.5)\n",
            "Building wheels for collected packages: bcolz\n",
            "  Running setup.py bdist_wheel for bcolz ... \u001b[?25l-\b \b\\\b \b|\b \b/\b \b-\b \b\\\b \b|\b \b/\b \b-\b \b\\\b \b|\b \b/\b \b-\b \b\\\b \b|\b \b/\b \b-\b \b\\\b \b|\b \b/\b \b-\b \b\\\b \b|\b \b/\b \b-\b \b\\\b \b|\b \b/\b \b-\b \b\\\b \b|\b \b/\b \b-\b \b\\\b \b|\b \b/\b \b-\b \b\\\b \b|\b \b/\b \b-\b \b\\\b \b|\b \b/\b \b-\b \b\\\b \b|\b \b/\b \b-\b \b\\\b \b|\b \b/\b \b-\b \b\\\b \b|\b \b/\b \b-\b \b\\\b \b|\b \b/\b \bdone\n",
            "\u001b[?25h  Stored in directory: /content/.cache/pip/wheels/9f/78/26/fb8c0acb91a100dc8914bf236c4eaa4b207cb876893c40b745\n",
            "Successfully built bcolz\n",
            "Installing collected packages: bcolz\n",
            "Successfully installed bcolz-1.2.1\n"
          ],
          "name": "stdout"
        }
      ]
    },
    {
      "metadata": {
        "id": "Bp9oajteZVQU",
        "colab_type": "code",
        "colab": {}
      },
      "cell_type": "code",
      "source": [
        "import bcolz\n",
        "\n",
        "def load_array(fname):\n",
        "  return bcolz.open(fname)[:]\n",
        "\n",
        "def save_array(fname, arr):\n",
        "    c=bcolz.carray(arr, rootdir=fname, mode='w')\n",
        "    c.flush()"
      ],
      "execution_count": 0,
      "outputs": []
    },
    {
      "metadata": {
        "id": "TaEJM6MzaISY",
        "colab_type": "code",
        "colab": {}
      },
      "cell_type": "code",
      "source": [
        "save_array('X_train',X_train)\n",
        "save_array('y_train',y_train)\n",
        "save_array('X_valid',X_valid)\n",
        "save_array('y_valid',y_valid)"
      ],
      "execution_count": 0,
      "outputs": []
    },
    {
      "metadata": {
        "id": "3bxZlkBK_VGf",
        "colab_type": "code",
        "colab": {
          "base_uri": "https://localhost:8080/",
          "height": 124
        },
        "outputId": "10f0cde5-44af-47c2-bdcb-144dd5dc137d"
      },
      "cell_type": "code",
      "source": [
        "ls"
      ],
      "execution_count": 52,
      "outputs": [
        {
          "output_type": "stream",
          "text": [
            "adc.json             model_pt_trainable                       \u001b[0m\u001b[01;34mX_train\u001b[0m/\r\n",
            "\u001b[01;36mdatalab\u001b[0m@             \u001b[01;34mnltk_data\u001b[0m/                               \u001b[01;34mX_valid\u001b[0m/\r\n",
            "fake.csv             \u001b[01;34msample_data\u001b[0m/                             \u001b[01;34my_train\u001b[0m/\r\n",
            "model_bidirectional  wiki-news-300d-1M.vec.bin                \u001b[01;34my_valid\u001b[0m/\r\n",
            "model_from_scratch   wiki-news-300d-1M.vec.bin-p\r\n",
            "model_pt_frozen      wiki-news-300d-1M.vec.bin-p.vectors.npy\r\n"
          ],
          "name": "stdout"
        }
      ]
    },
    {
      "metadata": {
        "id": "_Ko6yXXUBESM",
        "colab_type": "text"
      },
      "cell_type": "markdown",
      "source": [
        "#### Restart Runtime ####\n",
        "- Click 'Runtime' -> 'Restart runtime....'"
      ]
    },
    {
      "metadata": {
        "id": "CyHtZa6WBL7V",
        "colab_type": "code",
        "colab": {
          "base_uri": "https://localhost:8080/",
          "height": 124
        },
        "outputId": "98ab79b0-bbcb-4c2c-e1a6-4804df934b29"
      },
      "cell_type": "code",
      "source": [
        "import os\n",
        "def print_memory_usage():\n",
        "  tot_m, used_m, free_m, shared_m, buff_cache_m, avail_m = map(int, os.popen('free -t -m').readlines()[1].split()[1:])\n",
        "  print(\"Total Memory (MB): {}\".format(tot_m))\n",
        "  print(\"Used Memory (MB): {}\".format(used_m))\n",
        "  print(\"Free Memory (MB): {}\".format(free_m))\n",
        "  print(\"Shared Memory (MB): {}\".format(shared_m))\n",
        "  print(\"Buff/Cache Memory (MB): {}\".format(buff_cache_m))\n",
        "  print(\"Available Memory (MB): {}\".format(avail_m))\n",
        "  \n",
        "print_memory_usage()"
      ],
      "execution_count": 2,
      "outputs": [
        {
          "output_type": "stream",
          "text": [
            "Total Memory (MB): 13022\n",
            "Used Memory (MB): 379\n",
            "Free Memory (MB): 6859\n",
            "Shared Memory (MB): 248\n",
            "Buff/Cache Memory (MB): 5783\n",
            "Available Memory (MB): 12097\n"
          ],
          "name": "stdout"
        }
      ]
    },
    {
      "metadata": {
        "id": "M3BQTXJVaeCv",
        "colab_type": "text"
      },
      "cell_type": "markdown",
      "source": [
        "#### Load Datasets ####\n",
        "- Click 'Runtime' -> 'Restart runtime...'\n",
        "- Re-run the Cell to 'import bcolz'\n",
        "- Load the Datasets"
      ]
    },
    {
      "metadata": {
        "id": "b-Ea2WLPAx8D",
        "colab_type": "code",
        "colab": {}
      },
      "cell_type": "code",
      "source": [
        "X_train = load_array('X_train')\n",
        "y_train = load_array('y_train')\n",
        "X_valid = load_array('X_valid')\n",
        "y_valid = load_array('y_valid')"
      ],
      "execution_count": 0,
      "outputs": []
    },
    {
      "metadata": {
        "id": "K9q7Pk_PBcvU",
        "colab_type": "code",
        "colab": {
          "base_uri": "https://localhost:8080/",
          "height": 124
        },
        "outputId": "b3c9f498-6a2a-4abd-95ef-31121976dcd4"
      },
      "cell_type": "code",
      "source": [
        "print_memory_usage()"
      ],
      "execution_count": 11,
      "outputs": [
        {
          "output_type": "stream",
          "text": [
            "Total Memory (MB): 13022\n",
            "Used Memory (MB): 2440\n",
            "Free Memory (MB): 2333\n",
            "Shared Memory (MB): 2427\n",
            "Buff/Cache Memory (MB): 8248\n",
            "Available Memory (MB): 9062\n"
          ],
          "name": "stdout"
        }
      ]
    },
    {
      "metadata": {
        "id": "CZT9xS6TUn0i",
        "colab_type": "code",
        "colab": {}
      },
      "cell_type": "code",
      "source": [
        "NUM_CLASSES = 8\n",
        "BATCH_SIZE = 32\n",
        "LSTM_UNITS = 64"
      ],
      "execution_count": 0,
      "outputs": []
    },
    {
      "metadata": {
        "id": "Lvl7G2inUZYE",
        "colab_type": "code",
        "colab": {}
      },
      "cell_type": "code",
      "source": [
        "import tensorflow as tf\n",
        "tf.reset_default_graph()\n",
        "\n",
        "input_data = tf.placeholder(tf.int32, [BATCH_SIZE, MAX_SEQUENCE_LENGTH])\n",
        "labels = tf.placeholder(tf.float32, [BATCH_SIZE, NUM_CLASSES])\n",
        "\n",
        "data = tf.Variable(tf.zeros([BATCH_SIZE, MAX_SEQUENCE_LENGTH, EMBEDDING_DIM]),dtype=tf.float32)\n",
        "data = tf.nn.embedding_lookup(embedding_matrix, input_data) #wordVectors,input_data)\n",
        "\n",
        "lstmCell = tf.contrib.rnn.BasicLSTMCell(LSTM_UNITS)\n",
        "lstmCell = tf.contrib.rnn.DropoutWrapper(cell=lstmCell, output_keep_prob=0.75)\n",
        "value, _ = tf.nn.dynamic_rnn(lstmCell, data, dtype=tf.float32)\n",
        "\n",
        "weight = tf.Variable(tf.truncated_normal([LSTM_UNITS, NUM_CLASSES]))\n",
        "bias = tf.Variable(tf.constant(0.1, shape=[NUM_CLASSES]))\n",
        "value = tf.transpose(value, [1, 0, 2])\n",
        "last = tf.gather(value, int(value.get_shape()[0]) - 1)\n",
        "prediction = (tf.matmul(last, weight) + bias)\n",
        "\n",
        "correct_pred = tf.equal(tf.argmax(prediction,1), tf.argmax(labels,1))\n",
        "accuracy = tf.reduce_mean(tf.cast(correct_pred, tf.float32))\n",
        "\n",
        "loss = tf.reduce_mean(tf.nn.softmax_cross_entropy_with_logits(logits=prediction, labels=labels))\n",
        "optimizer = tf.train.AdamOptimizer().minimize(loss)"
      ],
      "execution_count": 0,
      "outputs": []
    },
    {
      "metadata": {
        "id": "tj-c9qPedmzw",
        "colab_type": "code",
        "colab": {}
      },
      "cell_type": "code",
      "source": [
        "'''\n",
        "import datetime\n",
        "tf.summary.scalar('Loss', loss)\n",
        "tf.summary.scalar('Accuracy', accuracy)\n",
        "merged = tf.summary.merge_all()\n",
        "logdir = \"tensorboard/\" + datetime.datetime.now().strftime(\"%Y%m%d-%H%M%S\") + \"/\"\n",
        "writer = tf.summary.FileWriter(logdir, sess.graph)\n",
        "'''"
      ],
      "execution_count": 0,
      "outputs": []
    },
    {
      "metadata": {
        "id": "SnEpHJWejTsV",
        "colab_type": "code",
        "colab": {}
      },
      "cell_type": "code",
      "source": [
        "def next_batch(num, data, labels):\n",
        "  idx = np.arange(0 , len(data))\n",
        "  np.random.shuffle(idx)\n",
        "  idx = idx[:num]\n",
        "  data_shuffle = [data[ii] for ii in idx]\n",
        "  labels_shuffle = [labels[ii] for ii in idx]\n",
        "  return np.asarray(data_shuffle), np.asarray(labels_shuffle)"
      ],
      "execution_count": 0,
      "outputs": []
    },
    {
      "metadata": {
        "id": "3KEDhchOcbiw",
        "colab_type": "code",
        "colab": {
          "base_uri": "https://localhost:8080/",
          "height": 1274
        },
        "outputId": "e2ad55ef-125a-443a-b378-dc4ecf5d8480"
      },
      "cell_type": "code",
      "source": [
        "sess = tf.InteractiveSession()\n",
        "saver = tf.train.Saver()\n",
        "sess.run(tf.global_variables_initializer())\n",
        "\n",
        "iterations = 100000\n",
        "for ii in range(iterations):\n",
        "  batch_X_train, batch_y_train = next_batch(BATCH_SIZE,X_train,y_train) \n",
        "  batch_X_valid, batch_y_valid = next_batch(BATCH_SIZE,X_valid,y_valid) \n",
        "  sess.run(optimizer, {input_data: batch_X_train, labels: batch_y_train})\n",
        "\n",
        "  if (ii % BATCH_SIZE == 0):\n",
        "    train_accuracy = accuracy.eval(feed_dict={input_data: batch_X_train, labels: batch_y_train})\n",
        "    valid_accuracy = accuracy.eval(feed_dict={input_data: batch_X_valid, labels: batch_y_valid})\n",
        "    print('step {0}, training accuracy {1}, validation accuracy {2}'.format(ii, train_accuracy, valid_accuracy)) #, end=\"\")\n",
        "\n",
        "  #Save the network every 10,000 training iterations\n",
        "  if (ii % 10000 == 0 and ii != 0):\n",
        "    save_path = saver.save(sess, \"pretrained_lstm.ckpt\", global_step=ii)\n",
        "    print(\"saved to %s\" % save_path)"
      ],
      "execution_count": 153,
      "outputs": [
        {
          "output_type": "stream",
          "text": [
            "/usr/local/lib/python3.6/dist-packages/tensorflow/python/client/session.py:1645: UserWarning: An interactive session is already active. This can cause out-of-memory errors in some cases. You must explicitly call `InteractiveSession.close()` to release resources held by the other session(s).\n",
            "  warnings.warn('An interactive session is already active. This can '\n"
          ],
          "name": "stderr"
        },
        {
          "output_type": "stream",
          "text": [
            "step 0, training accuracy 0.0, validation accuracy 0.0\n",
            "step 32, training accuracy 0.09375, validation accuracy 0.15625\n",
            "step 64, training accuracy 0.09375, validation accuracy 0.09375\n",
            "step 96, training accuracy 0.125, validation accuracy 0.0625\n",
            "step 128, training accuracy 0.1875, validation accuracy 0.21875\n",
            "step 160, training accuracy 0.125, validation accuracy 0.09375\n",
            "step 192, training accuracy 0.25, validation accuracy 0.125\n",
            "step 224, training accuracy 0.09375, validation accuracy 0.15625\n",
            "step 256, training accuracy 0.15625, validation accuracy 0.1875\n",
            "step 288, training accuracy 0.1875, validation accuracy 0.21875\n",
            "step 320, training accuracy 0.0625, validation accuracy 0.1875\n",
            "step 352, training accuracy 0.21875, validation accuracy 0.15625\n",
            "step 384, training accuracy 0.21875, validation accuracy 0.09375\n"
          ],
          "name": "stdout"
        },
        {
          "output_type": "error",
          "ename": "KeyboardInterrupt",
          "evalue": "ignored",
          "traceback": [
            "\u001b[0;31m---------------------------------------------------------------------------\u001b[0m",
            "\u001b[0;31mKeyboardInterrupt\u001b[0m                         Traceback (most recent call last)",
            "\u001b[0;32m<ipython-input-153-bc179a4997e3>\u001b[0m in \u001b[0;36m<module>\u001b[0;34m()\u001b[0m\n\u001b[1;32m      8\u001b[0m   \u001b[0;31m#print(batch_X_train)\u001b[0m\u001b[0;34m\u001b[0m\u001b[0;34m\u001b[0m\u001b[0m\n\u001b[1;32m      9\u001b[0m   \u001b[0mbatch_X_valid\u001b[0m\u001b[0;34m,\u001b[0m \u001b[0mbatch_y_valid\u001b[0m \u001b[0;34m=\u001b[0m \u001b[0mnext_batch\u001b[0m\u001b[0;34m(\u001b[0m\u001b[0mBATCH_SIZE\u001b[0m\u001b[0;34m,\u001b[0m\u001b[0mX_valid\u001b[0m\u001b[0;34m,\u001b[0m\u001b[0my_valid\u001b[0m\u001b[0;34m)\u001b[0m\u001b[0;34m\u001b[0m\u001b[0m\n\u001b[0;32m---> 10\u001b[0;31m   \u001b[0msess\u001b[0m\u001b[0;34m.\u001b[0m\u001b[0mrun\u001b[0m\u001b[0;34m(\u001b[0m\u001b[0moptimizer\u001b[0m\u001b[0;34m,\u001b[0m \u001b[0;34m{\u001b[0m\u001b[0minput_data\u001b[0m\u001b[0;34m:\u001b[0m \u001b[0mbatch_X_train\u001b[0m\u001b[0;34m,\u001b[0m \u001b[0mlabels\u001b[0m\u001b[0;34m:\u001b[0m \u001b[0mbatch_y_train\u001b[0m\u001b[0;34m}\u001b[0m\u001b[0;34m)\u001b[0m\u001b[0;34m\u001b[0m\u001b[0m\n\u001b[0m\u001b[1;32m     11\u001b[0m \u001b[0;34m\u001b[0m\u001b[0m\n\u001b[1;32m     12\u001b[0m   \u001b[0;31m#Write summary to Tensorboard\u001b[0m\u001b[0;34m\u001b[0m\u001b[0;34m\u001b[0m\u001b[0m\n",
            "\u001b[0;32m/usr/local/lib/python3.6/dist-packages/tensorflow/python/client/session.py\u001b[0m in \u001b[0;36mrun\u001b[0;34m(self, fetches, feed_dict, options, run_metadata)\u001b[0m\n\u001b[1;32m    875\u001b[0m     \u001b[0;32mtry\u001b[0m\u001b[0;34m:\u001b[0m\u001b[0;34m\u001b[0m\u001b[0m\n\u001b[1;32m    876\u001b[0m       result = self._run(None, fetches, feed_dict, options_ptr,\n\u001b[0;32m--> 877\u001b[0;31m                          run_metadata_ptr)\n\u001b[0m\u001b[1;32m    878\u001b[0m       \u001b[0;32mif\u001b[0m \u001b[0mrun_metadata\u001b[0m\u001b[0;34m:\u001b[0m\u001b[0;34m\u001b[0m\u001b[0m\n\u001b[1;32m    879\u001b[0m         \u001b[0mproto_data\u001b[0m \u001b[0;34m=\u001b[0m \u001b[0mtf_session\u001b[0m\u001b[0;34m.\u001b[0m\u001b[0mTF_GetBuffer\u001b[0m\u001b[0;34m(\u001b[0m\u001b[0mrun_metadata_ptr\u001b[0m\u001b[0;34m)\u001b[0m\u001b[0;34m\u001b[0m\u001b[0m\n",
            "\u001b[0;32m/usr/local/lib/python3.6/dist-packages/tensorflow/python/client/session.py\u001b[0m in \u001b[0;36m_run\u001b[0;34m(self, handle, fetches, feed_dict, options, run_metadata)\u001b[0m\n\u001b[1;32m   1098\u001b[0m     \u001b[0;32mif\u001b[0m \u001b[0mfinal_fetches\u001b[0m \u001b[0;32mor\u001b[0m \u001b[0mfinal_targets\u001b[0m \u001b[0;32mor\u001b[0m \u001b[0;34m(\u001b[0m\u001b[0mhandle\u001b[0m \u001b[0;32mand\u001b[0m \u001b[0mfeed_dict_tensor\u001b[0m\u001b[0;34m)\u001b[0m\u001b[0;34m:\u001b[0m\u001b[0;34m\u001b[0m\u001b[0m\n\u001b[1;32m   1099\u001b[0m       results = self._do_run(handle, final_targets, final_fetches,\n\u001b[0;32m-> 1100\u001b[0;31m                              feed_dict_tensor, options, run_metadata)\n\u001b[0m\u001b[1;32m   1101\u001b[0m     \u001b[0;32melse\u001b[0m\u001b[0;34m:\u001b[0m\u001b[0;34m\u001b[0m\u001b[0m\n\u001b[1;32m   1102\u001b[0m       \u001b[0mresults\u001b[0m \u001b[0;34m=\u001b[0m \u001b[0;34m[\u001b[0m\u001b[0;34m]\u001b[0m\u001b[0;34m\u001b[0m\u001b[0m\n",
            "\u001b[0;32m/usr/local/lib/python3.6/dist-packages/tensorflow/python/client/session.py\u001b[0m in \u001b[0;36m_do_run\u001b[0;34m(self, handle, target_list, fetch_list, feed_dict, options, run_metadata)\u001b[0m\n\u001b[1;32m   1270\u001b[0m     \u001b[0;32mif\u001b[0m \u001b[0mhandle\u001b[0m \u001b[0;32mis\u001b[0m \u001b[0;32mNone\u001b[0m\u001b[0;34m:\u001b[0m\u001b[0;34m\u001b[0m\u001b[0m\n\u001b[1;32m   1271\u001b[0m       return self._do_call(_run_fn, feeds, fetches, targets, options,\n\u001b[0;32m-> 1272\u001b[0;31m                            run_metadata)\n\u001b[0m\u001b[1;32m   1273\u001b[0m     \u001b[0;32melse\u001b[0m\u001b[0;34m:\u001b[0m\u001b[0;34m\u001b[0m\u001b[0m\n\u001b[1;32m   1274\u001b[0m       \u001b[0;32mreturn\u001b[0m \u001b[0mself\u001b[0m\u001b[0;34m.\u001b[0m\u001b[0m_do_call\u001b[0m\u001b[0;34m(\u001b[0m\u001b[0m_prun_fn\u001b[0m\u001b[0;34m,\u001b[0m \u001b[0mhandle\u001b[0m\u001b[0;34m,\u001b[0m \u001b[0mfeeds\u001b[0m\u001b[0;34m,\u001b[0m \u001b[0mfetches\u001b[0m\u001b[0;34m)\u001b[0m\u001b[0;34m\u001b[0m\u001b[0m\n",
            "\u001b[0;32m/usr/local/lib/python3.6/dist-packages/tensorflow/python/client/session.py\u001b[0m in \u001b[0;36m_do_call\u001b[0;34m(self, fn, *args)\u001b[0m\n\u001b[1;32m   1276\u001b[0m   \u001b[0;32mdef\u001b[0m \u001b[0m_do_call\u001b[0m\u001b[0;34m(\u001b[0m\u001b[0mself\u001b[0m\u001b[0;34m,\u001b[0m \u001b[0mfn\u001b[0m\u001b[0;34m,\u001b[0m \u001b[0;34m*\u001b[0m\u001b[0margs\u001b[0m\u001b[0;34m)\u001b[0m\u001b[0;34m:\u001b[0m\u001b[0;34m\u001b[0m\u001b[0m\n\u001b[1;32m   1277\u001b[0m     \u001b[0;32mtry\u001b[0m\u001b[0;34m:\u001b[0m\u001b[0;34m\u001b[0m\u001b[0m\n\u001b[0;32m-> 1278\u001b[0;31m       \u001b[0;32mreturn\u001b[0m \u001b[0mfn\u001b[0m\u001b[0;34m(\u001b[0m\u001b[0;34m*\u001b[0m\u001b[0margs\u001b[0m\u001b[0;34m)\u001b[0m\u001b[0;34m\u001b[0m\u001b[0m\n\u001b[0m\u001b[1;32m   1279\u001b[0m     \u001b[0;32mexcept\u001b[0m \u001b[0merrors\u001b[0m\u001b[0;34m.\u001b[0m\u001b[0mOpError\u001b[0m \u001b[0;32mas\u001b[0m \u001b[0me\u001b[0m\u001b[0;34m:\u001b[0m\u001b[0;34m\u001b[0m\u001b[0m\n\u001b[1;32m   1280\u001b[0m       \u001b[0mmessage\u001b[0m \u001b[0;34m=\u001b[0m \u001b[0mcompat\u001b[0m\u001b[0;34m.\u001b[0m\u001b[0mas_text\u001b[0m\u001b[0;34m(\u001b[0m\u001b[0me\u001b[0m\u001b[0;34m.\u001b[0m\u001b[0mmessage\u001b[0m\u001b[0;34m)\u001b[0m\u001b[0;34m\u001b[0m\u001b[0m\n",
            "\u001b[0;32m/usr/local/lib/python3.6/dist-packages/tensorflow/python/client/session.py\u001b[0m in \u001b[0;36m_run_fn\u001b[0;34m(feed_dict, fetch_list, target_list, options, run_metadata)\u001b[0m\n\u001b[1;32m   1261\u001b[0m       \u001b[0mself\u001b[0m\u001b[0;34m.\u001b[0m\u001b[0m_extend_graph\u001b[0m\u001b[0;34m(\u001b[0m\u001b[0;34m)\u001b[0m\u001b[0;34m\u001b[0m\u001b[0m\n\u001b[1;32m   1262\u001b[0m       return self._call_tf_sessionrun(\n\u001b[0;32m-> 1263\u001b[0;31m           options, feed_dict, fetch_list, target_list, run_metadata)\n\u001b[0m\u001b[1;32m   1264\u001b[0m \u001b[0;34m\u001b[0m\u001b[0m\n\u001b[1;32m   1265\u001b[0m     \u001b[0;32mdef\u001b[0m \u001b[0m_prun_fn\u001b[0m\u001b[0;34m(\u001b[0m\u001b[0mhandle\u001b[0m\u001b[0;34m,\u001b[0m \u001b[0mfeed_dict\u001b[0m\u001b[0;34m,\u001b[0m \u001b[0mfetch_list\u001b[0m\u001b[0;34m)\u001b[0m\u001b[0;34m:\u001b[0m\u001b[0;34m\u001b[0m\u001b[0m\n",
            "\u001b[0;32m/usr/local/lib/python3.6/dist-packages/tensorflow/python/client/session.py\u001b[0m in \u001b[0;36m_call_tf_sessionrun\u001b[0;34m(self, options, feed_dict, fetch_list, target_list, run_metadata)\u001b[0m\n\u001b[1;32m   1348\u001b[0m     return tf_session.TF_SessionRun_wrapper(\n\u001b[1;32m   1349\u001b[0m         \u001b[0mself\u001b[0m\u001b[0;34m.\u001b[0m\u001b[0m_session\u001b[0m\u001b[0;34m,\u001b[0m \u001b[0moptions\u001b[0m\u001b[0;34m,\u001b[0m \u001b[0mfeed_dict\u001b[0m\u001b[0;34m,\u001b[0m \u001b[0mfetch_list\u001b[0m\u001b[0;34m,\u001b[0m \u001b[0mtarget_list\u001b[0m\u001b[0;34m,\u001b[0m\u001b[0;34m\u001b[0m\u001b[0m\n\u001b[0;32m-> 1350\u001b[0;31m         run_metadata)\n\u001b[0m\u001b[1;32m   1351\u001b[0m \u001b[0;34m\u001b[0m\u001b[0m\n\u001b[1;32m   1352\u001b[0m   \u001b[0;32mdef\u001b[0m \u001b[0m_call_tf_sessionprun\u001b[0m\u001b[0;34m(\u001b[0m\u001b[0mself\u001b[0m\u001b[0;34m,\u001b[0m \u001b[0mhandle\u001b[0m\u001b[0;34m,\u001b[0m \u001b[0mfeed_dict\u001b[0m\u001b[0;34m,\u001b[0m \u001b[0mfetch_list\u001b[0m\u001b[0;34m)\u001b[0m\u001b[0;34m:\u001b[0m\u001b[0;34m\u001b[0m\u001b[0m\n",
            "\u001b[0;31mKeyboardInterrupt\u001b[0m: "
          ]
        }
      ]
    },
    {
      "metadata": {
        "id": "vgnXTjTW28sV",
        "colab_type": "code",
        "colab": {},
        "outputId": "f815969f-459d-421e-9ca5-b6c856547c14"
      },
      "cell_type": "code",
      "source": [
        "def get_predictions(model, X_data, y_data, display=False):\n",
        "    preds = np.zeros((0,2))\n",
        "    labels = np.zeros((0,2))\n",
        "    for ii in range(len(X_data)):\n",
        "        prediction = model.predict(np.expand_dims(X_data[ii], axis=0))\n",
        "        label = y_data[ii]\n",
        "        preds = np.vstack((preds,prediction))\n",
        "        labels = np.vstack((labels,label))\n",
        "        if display is True:\n",
        "            print(prediction)\n",
        "            print(label)\n",
        "    return preds, labels\n",
        "\n",
        "preds, labels = get_predictions(model_bidirectional, X_data, y_data, display=True)\n",
        "#preds, labels = get_predictions(model_no_embedding, X_data_enc, y_data, display=True)"
      ],
      "execution_count": 0,
      "outputs": [
        {
          "output_type": "stream",
          "text": [
            "[[ 0.43361151  0.56638849]]\n",
            "[0 1]\n",
            "[[ 0.43797344  0.56202662]]\n",
            "[0 1]\n",
            "[[ 0.4871538   0.51284623]]\n",
            "[0 1]\n",
            "[[ 0.49115032  0.50884968]]\n",
            "[0 1]\n",
            "[[ 0.50159067  0.49840936]]\n",
            "[0 1]\n",
            "[[ 0.48351571  0.51648432]]\n",
            "[0 1]\n",
            "[[ 0.49443078  0.50556916]]\n",
            "[0 1]\n",
            "[[ 0.45593712  0.54406291]]\n",
            "[0 1]\n",
            "[[ 0.45716313  0.54283684]]\n",
            "[0 1]\n",
            "[[ 0.44520226  0.55479771]]\n",
            "[0 1]\n",
            "[[ 0.44149619  0.55850375]]\n",
            "[0 1]\n",
            "[[ 0.46386287  0.53613716]]\n",
            "[0 1]\n",
            "[[ 0.4507618  0.5492382]]\n",
            "[0 1]\n",
            "[[ 0.49024183  0.50975811]]\n",
            "[0 1]\n",
            "[[ 0.46664053  0.53335947]]\n",
            "[0 1]\n",
            "[[ 0.48411196  0.51588804]]\n",
            "[0 1]\n",
            "[[ 0.51821077  0.48178923]]\n",
            "[1 0]\n",
            "[[ 0.43972757  0.56027246]]\n",
            "[0 1]\n",
            "[[ 0.47426388  0.52573609]]\n",
            "[0 1]\n",
            "[[ 0.41714111  0.58285892]]\n",
            "[0 1]\n",
            "[[ 0.42593279  0.57406718]]\n",
            "[0 1]\n",
            "[[ 0.43666127  0.56333876]]\n",
            "[1 0]\n",
            "[[ 0.43590912  0.56409079]]\n",
            "[0 1]\n",
            "[[ 0.43561319  0.56438679]]\n",
            "[0 1]\n",
            "[[ 0.47973943  0.52026051]]\n",
            "[0 1]\n",
            "[[ 0.47588331  0.52411669]]\n",
            "[0 1]\n",
            "[[ 0.42623574  0.57376426]]\n",
            "[0 1]\n",
            "[[ 0.46010175  0.53989828]]\n",
            "[0 1]\n",
            "[[ 0.4254297  0.5745703]]\n",
            "[0 1]\n",
            "[[ 0.50159067  0.49840936]]\n",
            "[0 1]\n",
            "[[ 0.47870195  0.52129805]]\n",
            "[0 1]\n",
            "[[ 0.46729136  0.53270864]]\n",
            "[0 1]\n",
            "[[ 0.40626103  0.59373891]]\n",
            "[0 1]\n",
            "[[ 0.45471418  0.54528588]]\n",
            "[0 1]\n",
            "[[ 0.49009073  0.50990933]]\n",
            "[0 1]\n",
            "[[ 0.50159067  0.49840936]]\n",
            "[1 0]\n",
            "[[ 0.43476626  0.56523377]]\n",
            "[0 1]\n",
            "[[ 0.50827146  0.49172848]]\n",
            "[0 1]\n",
            "[[ 0.45688567  0.54311436]]\n",
            "[0 1]\n",
            "[[ 0.45479596  0.54520398]]\n",
            "[0 1]\n",
            "[[ 0.42565572  0.57434428]]\n",
            "[0 1]\n",
            "[[ 0.46804997  0.53195006]]\n",
            "[1 0]\n",
            "[[ 0.41170704  0.58829296]]\n",
            "[0 1]\n",
            "[[ 0.45844585  0.54155415]]\n",
            "[0 1]\n",
            "[[ 0.41201028  0.58798969]]\n",
            "[0 1]\n",
            "[[ 0.4289676  0.5710324]]\n",
            "[0 1]\n",
            "[[ 0.43569982  0.56430018]]\n",
            "[0 1]\n",
            "[[ 0.43929607  0.56070399]]\n",
            "[0 1]\n",
            "[[ 0.46289632  0.53710371]]\n",
            "[0 1]\n",
            "[[ 0.48837706  0.51162297]]\n",
            "[0 1]\n",
            "[[ 0.48038602  0.51961398]]\n",
            "[0 1]\n",
            "[[ 0.44383281  0.55616713]]\n",
            "[0 1]\n",
            "[[ 0.4277935   0.57220644]]\n",
            "[0 1]\n",
            "[[ 0.42805383  0.5719462 ]]\n",
            "[0 1]\n",
            "[[ 0.45687497  0.54312497]]\n",
            "[0 1]\n",
            "[[ 0.49380204  0.50619793]]\n",
            "[0 1]\n",
            "[[ 0.47618902  0.52381092]]\n",
            "[0 1]\n",
            "[[ 0.44099632  0.55900365]]\n",
            "[0 1]\n",
            "[[ 0.43166459  0.56833541]]\n",
            "[0 1]\n",
            "[[ 0.48198736  0.51801258]]\n",
            "[0 1]\n",
            "[[ 0.46729136  0.53270864]]\n",
            "[0 1]\n",
            "[[ 0.44240358  0.55759645]]\n",
            "[0 1]\n",
            "[[ 0.48411196  0.51588804]]\n",
            "[0 1]\n",
            "[[ 0.44099632  0.55900365]]\n",
            "[0 1]\n",
            "[[ 0.43569982  0.56430018]]\n",
            "[0 1]\n",
            "[[ 0.46858433  0.5314157 ]]\n",
            "[0 1]\n",
            "[[ 0.49958682  0.50041318]]\n",
            "[0 1]\n",
            "[[ 0.48144183  0.5185582 ]]\n",
            "[0 1]\n",
            "[[ 0.43604404  0.56395596]]\n",
            "[1 0]\n",
            "[[ 0.44703251  0.55296743]]\n",
            "[0 1]\n",
            "[[ 0.42345694  0.57654303]]\n",
            "[0 1]\n",
            "[[ 0.44361818  0.55638182]]\n",
            "[0 1]\n",
            "[[ 0.48522645  0.51477349]]\n",
            "[0 1]\n",
            "[[ 0.44519788  0.55480212]]\n",
            "[1 0]\n",
            "[[ 0.48962149  0.51037848]]\n",
            "[0 1]\n",
            "[[ 0.44966295  0.55033702]]\n",
            "[0 1]\n",
            "[[ 0.456065    0.54393506]]\n",
            "[0 1]\n",
            "[[ 0.4484804   0.55151963]]\n",
            "[0 1]\n",
            "[[ 0.41062292  0.58937711]]\n",
            "[0 1]\n",
            "[[ 0.46443361  0.53556645]]\n",
            "[1 0]\n",
            "[[ 0.45287526  0.54712468]]\n",
            "[1 0]\n",
            "[[ 0.44769126  0.55230868]]\n",
            "[0 1]\n",
            "[[ 0.46892673  0.53107327]]\n",
            "[0 1]\n",
            "[[ 0.46842983  0.53157014]]\n",
            "[0 1]\n",
            "[[ 0.50178379  0.49821615]]\n",
            "[0 1]\n",
            "[[ 0.49982864  0.50017136]]\n",
            "[0 1]\n",
            "[[ 0.44273445  0.55726558]]\n",
            "[0 1]\n",
            "[[ 0.41614276  0.5838573 ]]\n",
            "[0 1]\n",
            "[[ 0.48736233  0.51263767]]\n",
            "[0 1]\n",
            "[[ 0.43686631  0.56313372]]\n",
            "[1 0]\n",
            "[[ 0.47704172  0.52295828]]\n",
            "[0 1]\n",
            "[[ 0.46808073  0.5319193 ]]\n",
            "[0 1]\n",
            "[[ 0.4463124   0.55368763]]\n",
            "[0 1]\n",
            "[[ 0.45406279  0.54593718]]\n",
            "[0 1]\n",
            "[[ 0.4449676   0.55503237]]\n",
            "[0 1]\n",
            "[[ 0.48652434  0.5134756 ]]\n",
            "[0 1]\n",
            "[[ 0.46976495  0.53023511]]\n",
            "[0 1]\n",
            "[[ 0.44921529  0.55078477]]\n",
            "[0 1]\n",
            "[[ 0.44552839  0.55447155]]\n",
            "[0 1]\n",
            "[[ 0.4065432  0.5934568]]\n",
            "[0 1]\n",
            "[[ 0.4349533   0.56504667]]\n",
            "[0 1]\n",
            "[[ 0.48107412  0.51892585]]\n",
            "[1 0]\n",
            "[[ 0.43432617  0.56567383]]\n",
            "[1 0]\n",
            "[[ 0.47943375  0.52056628]]\n",
            "[0 1]\n",
            "[[ 0.4681384   0.53186166]]\n",
            "[0 1]\n",
            "[[ 0.46096474  0.53903526]]\n",
            "[1 0]\n",
            "[[ 0.45355791  0.54644209]]\n",
            "[0 1]\n",
            "[[ 0.47882715  0.52117282]]\n",
            "[0 1]\n",
            "[[ 0.4210535   0.57894659]]\n",
            "[0 1]\n",
            "[[ 0.4402045  0.5597955]]\n",
            "[0 1]\n",
            "[[ 0.42395091  0.57604909]]\n",
            "[0 1]\n",
            "[[ 0.48921779  0.5107823 ]]\n",
            "[0 1]\n",
            "[[ 0.47587219  0.52412772]]\n",
            "[0 1]\n",
            "[[ 0.45069894  0.54930109]]\n",
            "[0 1]\n",
            "[[ 0.43889824  0.56110179]]\n",
            "[0 1]\n",
            "[[ 0.46124861  0.53875136]]\n",
            "[0 1]\n",
            "[[ 0.46582514  0.53417492]]\n",
            "[0 1]\n",
            "[[ 0.4351317   0.56486833]]\n",
            "[0 1]\n",
            "[[ 0.47643104  0.52356893]]\n",
            "[0 1]\n",
            "[[ 0.43158114  0.56841892]]\n",
            "[0 1]\n",
            "[[ 0.51009476  0.48990524]]\n",
            "[0 1]\n",
            "[[ 0.42422143  0.5757786 ]]\n",
            "[0 1]\n",
            "[[ 0.47943375  0.52056628]]\n",
            "[0 1]\n",
            "[[ 0.49011591  0.50988412]]\n",
            "[0 1]\n",
            "[[ 0.46576256  0.53423744]]\n",
            "[0 1]\n",
            "[[ 0.41997021  0.58002979]]\n",
            "[0 1]\n",
            "[[ 0.42519635  0.57480359]]\n",
            "[1 0]\n",
            "[[ 0.45699164  0.54300833]]\n",
            "[0 1]\n",
            "[[ 0.47643682  0.52356315]]\n",
            "[0 1]\n",
            "[[ 0.43596953  0.56403047]]\n",
            "[0 1]\n",
            "[[ 0.47418252  0.52581751]]\n",
            "[0 1]\n",
            "[[ 0.46653906  0.53346097]]\n",
            "[0 1]\n",
            "[[ 0.44478101  0.55521899]]\n",
            "[0 1]\n",
            "[[ 0.43041405  0.56958598]]\n",
            "[0 1]\n",
            "[[ 0.42613664  0.57386333]]\n",
            "[0 1]\n",
            "[[ 0.40347156  0.59652841]]\n",
            "[0 1]\n",
            "[[ 0.44799063  0.55200934]]\n",
            "[0 1]\n",
            "[[ 0.50540066  0.49459934]]\n",
            "[0 1]\n",
            "[[ 0.44043255  0.55956745]]\n",
            "[0 1]\n",
            "[[ 0.46601784  0.53398216]]\n",
            "[0 1]\n",
            "[[ 0.44462824  0.55537182]]\n",
            "[0 1]\n",
            "[[ 0.44799161  0.55200839]]\n",
            "[0 1]\n",
            "[[ 0.41594216  0.58405787]]\n",
            "[0 1]\n",
            "[[ 0.43034244  0.56965756]]\n",
            "[0 1]\n",
            "[[ 0.44157556  0.55842441]]\n",
            "[0 1]\n",
            "[[ 0.49942562  0.50057435]]\n",
            "[0 1]\n",
            "[[ 0.43166986  0.56833017]]\n",
            "[0 1]\n",
            "[[ 0.46618563  0.53381437]]\n",
            "[1 0]\n",
            "[[ 0.46154377  0.5384562 ]]\n",
            "[1 0]\n",
            "[[ 0.44762099  0.55237901]]\n",
            "[0 1]\n",
            "[[ 0.40501213  0.59498781]]\n",
            "[0 1]\n",
            "[[ 0.46711642  0.53288358]]\n",
            "[1 0]\n",
            "[[ 0.43561894  0.564381  ]]\n",
            "[0 1]\n",
            "[[ 0.46105793  0.53894204]]\n",
            "[0 1]\n",
            "[[ 0.43896109  0.56103891]]\n",
            "[0 1]\n",
            "[[ 0.43537587  0.56462413]]\n",
            "[0 1]\n",
            "[[ 0.4759607   0.52403927]]\n",
            "[0 1]\n",
            "[[ 0.4553026   0.54469746]]\n",
            "[1 0]\n",
            "[[ 0.41714111  0.58285892]]\n",
            "[0 1]\n",
            "[[ 0.44066313  0.5593369 ]]\n",
            "[0 1]\n",
            "[[ 0.49696636  0.50303364]]\n",
            "[0 1]\n",
            "[[ 0.42695856  0.57304144]]\n",
            "[0 1]\n",
            "[[ 0.45350614  0.54649389]]\n",
            "[0 1]\n",
            "[[ 0.44634798  0.55365205]]\n",
            "[0 1]\n",
            "[[ 0.47886738  0.52113265]]\n",
            "[1 0]\n",
            "[[ 0.43646225  0.56353772]]\n",
            "[0 1]\n",
            "[[ 0.47943375  0.52056628]]\n",
            "[0 1]\n",
            "[[ 0.47573704  0.52426296]]\n",
            "[0 1]\n",
            "[[ 0.49696636  0.50303364]]\n",
            "[0 1]\n",
            "[[ 0.45721361  0.54278642]]\n",
            "[0 1]\n",
            "[[ 0.44998667  0.5500133 ]]\n",
            "[0 1]\n",
            "[[ 0.48317906  0.51682097]]\n",
            "[0 1]\n",
            "[[ 0.47664785  0.52335209]]\n",
            "[0 1]\n",
            "[[ 0.41852501  0.58147508]]\n",
            "[0 1]\n",
            "[[ 0.46029475  0.53970528]]\n",
            "[0 1]\n",
            "[[ 0.47498146  0.52501851]]\n",
            "[0 1]\n",
            "[[ 0.48565847  0.51434153]]\n",
            "[0 1]\n",
            "[[ 0.4625707   0.53742927]]\n",
            "[1 0]\n",
            "[[ 0.43146861  0.56853139]]\n",
            "[1 0]\n",
            "[[ 0.47806242  0.52193761]]\n",
            "[0 1]\n",
            "[[ 0.43590912  0.56409079]]\n",
            "[0 1]\n",
            "[[ 0.44457754  0.55542243]]\n",
            "[0 1]\n",
            "[[ 0.46211922  0.53788078]]\n",
            "[0 1]\n",
            "[[ 0.4652158  0.5347842]]\n",
            "[1 0]\n",
            "[[ 0.49038857  0.50961137]]\n",
            "[0 1]\n",
            "[[ 0.47346094  0.52653909]]\n",
            "[0 1]\n",
            "[[ 0.49958682  0.50041318]]\n",
            "[0 1]\n",
            "[[ 0.48813424  0.51186579]]\n",
            "[0 1]\n",
            "[[ 0.44812837  0.55187166]]\n",
            "[0 1]\n",
            "[[ 0.4676879  0.5323121]]\n",
            "[0 1]\n",
            "[[ 0.51288563  0.48711437]]\n",
            "[0 1]\n",
            "[[ 0.41873583  0.58126414]]\n",
            "[0 1]\n",
            "[[ 0.48068467  0.5193153 ]]\n",
            "[0 1]\n",
            "[[ 0.40909579  0.59090424]]\n",
            "[0 1]\n",
            "[[ 0.4458648   0.55413526]]\n",
            "[0 1]\n",
            "[[ 0.46711642  0.53288358]]\n",
            "[0 1]\n",
            "[[ 0.48829207  0.5117079 ]]\n",
            "[0 1]\n",
            "[[ 0.49182135  0.50817859]]\n",
            "[0 1]\n",
            "[[ 0.40897518  0.59102482]]\n",
            "[0 1]\n",
            "[[ 0.43975922  0.56024075]]\n",
            "[1 0]\n",
            "[[ 0.47265539  0.52734464]]\n",
            "[0 1]\n",
            "[[ 0.48355865  0.51644135]]\n",
            "[0 1]\n",
            "[[ 0.4161019   0.58389807]]\n",
            "[0 1]\n",
            "[[ 0.49162716  0.5083729 ]]\n",
            "[0 1]\n",
            "[[ 0.47263542  0.52736467]]\n",
            "[0 1]\n",
            "[[ 0.49443078  0.50556916]]\n",
            "[0 1]\n",
            "[[ 0.48276493  0.51723504]]\n",
            "[0 1]\n",
            "[[ 0.4591803  0.5408197]]\n",
            "[1 0]\n",
            "[[ 0.4519721   0.54802793]]\n",
            "[0 1]\n",
            "[[ 0.44169879  0.55830115]]\n",
            "[0 1]\n",
            "[[ 0.42601064  0.57398933]]\n",
            "[0 1]\n",
            "[[ 0.44422656  0.5557735 ]]\n",
            "[0 1]\n",
            "[[ 0.4920615  0.5079385]]\n",
            "[0 1]\n",
            "[[ 0.42573473  0.57426524]]\n",
            "[0 1]\n",
            "[[ 0.46759588  0.53240412]]\n",
            "[0 1]\n",
            "[[ 0.451974    0.54802603]]\n",
            "[0 1]\n",
            "[[ 0.51171339  0.48828661]]\n",
            "[0 1]\n",
            "[[ 0.42903119  0.57096881]]\n",
            "[0 1]\n",
            "[[ 0.48718613  0.51281393]]\n",
            "[0 1]\n",
            "[[ 0.47246793  0.52753204]]\n",
            "[0 1]\n",
            "[[ 0.485021  0.514979]]\n",
            "[0 1]\n",
            "[[ 0.45836982  0.54163021]]\n",
            "[0 1]\n",
            "[[ 0.44801274  0.55198717]]\n",
            "[0 1]\n",
            "[[ 0.48071426  0.5192858 ]]\n",
            "[0 1]\n",
            "[[ 0.44038269  0.55961728]]\n",
            "[1 0]\n",
            "[[ 0.46729136  0.53270864]]\n",
            "[0 1]\n",
            "[[ 0.45114204  0.54885799]]\n",
            "[1 0]\n",
            "[[ 0.47335497  0.526645  ]]\n",
            "[0 1]\n",
            "[[ 0.4614931   0.53850693]]\n",
            "[0 1]\n",
            "[[ 0.42422143  0.5757786 ]]\n",
            "[0 1]\n",
            "[[ 0.47180033  0.52819973]]\n",
            "[0 1]\n",
            "[[ 0.48787627  0.5121237 ]]\n",
            "[0 1]\n",
            "[[ 0.47797748  0.52202255]]\n",
            "[0 1]\n",
            "[[ 0.48763692  0.51236308]]\n",
            "[0 1]\n",
            "[[ 0.42468622  0.57531375]]\n",
            "[0 1]\n",
            "[[ 0.49290577  0.50709426]]\n",
            "[0 1]\n",
            "[[ 0.42116553  0.57883447]]\n",
            "[0 1]\n",
            "[[ 0.46044576  0.53955424]]\n",
            "[0 1]\n",
            "[[ 0.44416979  0.55583018]]\n",
            "[0 1]\n",
            "[[ 0.44180903  0.55819088]]\n",
            "[0 1]\n",
            "[[ 0.46546301  0.53453702]]\n",
            "[0 1]\n",
            "[[ 0.48944274  0.51055717]]\n",
            "[1 0]\n",
            "[[ 0.48010823  0.51989174]]\n",
            "[0 1]\n",
            "[[ 0.45695633  0.54304373]]\n",
            "[0 1]\n",
            "[[ 0.43935934  0.56064069]]\n",
            "[0 1]\n",
            "[[ 0.4278726  0.5721274]]\n"
          ],
          "name": "stdout"
        },
        {
          "output_type": "stream",
          "text": [
            "[0 1]\n",
            "[[ 0.44072333  0.5592767 ]]\n",
            "[0 1]\n",
            "[[ 0.4882955  0.5117045]]\n",
            "[0 1]\n",
            "[[ 0.45699164  0.54300833]]\n",
            "[0 1]\n",
            "[[ 0.48953336  0.51046664]]\n",
            "[0 1]\n",
            "[[ 0.48571095  0.51428908]]\n",
            "[0 1]\n",
            "[[ 0.44676372  0.55323631]]\n",
            "[0 1]\n",
            "[[ 0.46289632  0.53710371]]\n",
            "[0 1]\n",
            "[[ 0.4418968  0.5581032]]\n",
            "[1 0]\n",
            "[[ 0.47830251  0.52169746]]\n",
            "[0 1]\n",
            "[[ 0.41850203  0.58149797]]\n",
            "[0 1]\n",
            "[[ 0.49415597  0.50584406]]\n",
            "[0 1]\n",
            "[[ 0.49355856  0.50644147]]\n",
            "[0 1]\n",
            "[[ 0.42519635  0.57480359]]\n",
            "[0 1]\n",
            "[[ 0.4284437   0.57155633]]\n",
            "[0 1]\n",
            "[[ 0.46717709  0.53282297]]\n",
            "[0 1]\n",
            "[[ 0.44764605  0.55235398]]\n",
            "[0 1]\n",
            "[[ 0.44676372  0.55323631]]\n",
            "[0 1]\n",
            "[[ 0.43975922  0.56024075]]\n",
            "[1 0]\n",
            "[[ 0.49456522  0.50543475]]\n",
            "[1 0]\n",
            "[[ 0.4634729   0.53652704]]\n",
            "[0 1]\n",
            "[[ 0.45656061  0.54343939]]\n",
            "[0 1]\n",
            "[[ 0.47240064  0.52759939]]\n",
            "[1 0]\n",
            "[[ 0.47590959  0.52409041]]\n",
            "[0 1]\n",
            "[[ 0.4458648   0.55413526]]\n",
            "[0 1]\n",
            "[[ 0.47170439  0.52829564]]\n",
            "[0 1]\n",
            "[[ 0.50159067  0.49840936]]\n",
            "[0 1]\n",
            "[[ 0.47223482  0.52776527]]\n",
            "[1 0]\n",
            "[[ 0.49223778  0.50776219]]\n",
            "[0 1]\n",
            "[[ 0.45999831  0.54000169]]\n",
            "[0 1]\n",
            "[[ 0.43026564  0.56973433]]\n",
            "[0 1]\n",
            "[[ 0.46118307  0.53881687]]\n",
            "[0 1]\n",
            "[[ 0.42949817  0.5705018 ]]\n",
            "[0 1]\n",
            "[[ 0.45952389  0.54047608]]\n",
            "[0 1]\n",
            "[[ 0.47889113  0.52110893]]\n",
            "[0 1]\n",
            "[[ 0.43972757  0.56027246]]\n",
            "[0 1]\n",
            "[[ 0.4528003   0.54719967]]\n",
            "[0 1]\n",
            "[[ 0.47502267  0.52497727]]\n",
            "[0 1]\n",
            "[[ 0.42431444  0.57568556]]\n",
            "[0 1]\n",
            "[[ 0.46047413  0.53952587]]\n",
            "[0 1]\n",
            "[[ 0.45594165  0.54405832]]\n",
            "[0 1]\n",
            "[[ 0.4632104   0.53678966]]\n",
            "[0 1]\n",
            "[[ 0.48089662  0.51910341]]\n",
            "[0 1]\n",
            "[[ 0.45119831  0.54880166]]\n",
            "[0 1]\n",
            "[[ 0.4544414   0.54555863]]\n",
            "[0 1]\n",
            "[[ 0.44614068  0.55385929]]\n",
            "[0 1]\n",
            "[[ 0.48068467  0.5193153 ]]\n",
            "[0 1]\n",
            "[[ 0.46787545  0.53212458]]\n",
            "[0 1]\n",
            "[[ 0.49095374  0.50904626]]\n",
            "[0 1]\n",
            "[[ 0.44852448  0.55147552]]\n",
            "[0 1]\n",
            "[[ 0.43842328  0.56157666]]\n",
            "[1 0]\n",
            "[[ 0.49615216  0.50384784]]\n",
            "[0 1]\n",
            "[[ 0.45114204  0.54885799]]\n",
            "[0 1]\n",
            "[[ 0.47109109  0.52890885]]\n",
            "[0 1]\n",
            "[[ 0.42250594  0.57749403]]\n",
            "[0 1]\n",
            "[[ 0.49118504  0.50881493]]\n",
            "[0 1]\n",
            "[[ 0.50279546  0.4972046 ]]\n",
            "[0 1]\n",
            "[[ 0.4765783  0.5234217]]\n",
            "[0 1]\n",
            "[[ 0.47738793  0.52261209]]\n",
            "[1 0]\n",
            "[[ 0.4357464   0.56425357]]\n",
            "[0 1]\n",
            "[[ 0.45353356  0.54646647]]\n",
            "[0 1]\n",
            "[[ 0.47943375  0.52056628]]\n",
            "[0 1]\n",
            "[[ 0.4664112   0.53358877]]\n",
            "[0 1]\n",
            "[[ 0.4544414   0.54555863]]\n",
            "[0 1]\n",
            "[[ 0.49443078  0.50556916]]\n",
            "[0 1]\n",
            "[[ 0.4575524   0.54244757]]\n",
            "[0 1]\n",
            "[[ 0.49603578  0.50396425]]\n",
            "[0 1]\n",
            "[[ 0.47418252  0.52581751]]\n",
            "[0 1]\n",
            "[[ 0.48047385  0.51952624]]\n",
            "[0 1]\n",
            "[[ 0.44150305  0.55849689]]\n",
            "[0 1]\n",
            "[[ 0.48039839  0.51960158]]\n",
            "[0 1]\n",
            "[[ 0.42468622  0.57531375]]\n",
            "[1 0]\n",
            "[[ 0.48067722  0.51932275]]\n",
            "[0 1]\n",
            "[[ 0.46808073  0.5319193 ]]\n",
            "[0 1]\n",
            "[[ 0.41560432  0.58439565]]\n",
            "[0 1]\n",
            "[[ 0.47964746  0.5203526 ]]\n",
            "[0 1]\n",
            "[[ 0.44776943  0.55223054]]\n",
            "[0 1]\n",
            "[[ 0.474208    0.52579194]]\n",
            "[0 1]\n",
            "[[ 0.48320872  0.51679128]]\n",
            "[0 1]\n",
            "[[ 0.48447394  0.51552606]]\n",
            "[0 1]\n",
            "[[ 0.45925733  0.54074264]]\n",
            "[0 1]\n",
            "[[ 0.48006809  0.51993197]]\n",
            "[0 1]\n",
            "[[ 0.50508624  0.49491376]]\n",
            "[0 1]\n",
            "[[ 0.45585704  0.54414296]]\n",
            "[0 1]\n",
            "[[ 0.45344239  0.54655755]]\n",
            "[1 0]\n",
            "[[ 0.4706988   0.52930123]]\n",
            "[0 1]\n",
            "[[ 0.48223546  0.51776451]]\n",
            "[0 1]\n",
            "[[ 0.4317759   0.56822413]]\n",
            "[0 1]\n",
            "[[ 0.45844585  0.54155415]]\n",
            "[0 1]\n",
            "[[ 0.44042841  0.55957156]]\n",
            "[1 0]\n",
            "[[ 0.41715872  0.58284128]]\n",
            "[0 1]\n",
            "[[ 0.42953795  0.57046199]]\n",
            "[0 1]\n",
            "[[ 0.46337318  0.53662682]]\n",
            "[0 1]\n",
            "[[ 0.45585704  0.54414296]]\n",
            "[0 1]\n",
            "[[ 0.44646549  0.55353451]]\n",
            "[0 1]\n",
            "[[ 0.48260713  0.51739287]]\n",
            "[0 1]\n",
            "[[ 0.50940979  0.49059024]]\n",
            "[0 1]\n",
            "[[ 0.44634357  0.5536564 ]]\n",
            "[1 0]\n",
            "[[ 0.47553322  0.52446687]]\n",
            "[0 1]\n",
            "[[ 0.45309338  0.54690665]]\n",
            "[0 1]\n",
            "[[ 0.43410259  0.56589741]]\n",
            "[0 1]\n",
            "[[ 0.49044454  0.5095554 ]]\n",
            "[0 1]\n",
            "[[ 0.4916999   0.50830013]]\n",
            "[0 1]\n",
            "[[ 0.45528474  0.54471523]]\n",
            "[0 1]\n",
            "[[ 0.4284437   0.57155633]]\n",
            "[0 1]\n",
            "[[ 0.46050695  0.53949308]]\n",
            "[0 1]\n",
            "[[ 0.45738697  0.54261303]]\n",
            "[0 1]\n",
            "[[ 0.43356106  0.56643891]]\n",
            "[0 1]\n",
            "[[ 0.47103357  0.52896643]]\n",
            "[0 1]\n",
            "[[ 0.43361151  0.56638849]]\n",
            "[0 1]\n",
            "[[ 0.4634729   0.53652704]]\n",
            "[0 1]\n",
            "[[ 0.48063138  0.51936865]]\n",
            "[0 1]\n",
            "[[ 0.45019928  0.54980069]]\n",
            "[0 1]\n",
            "[[ 0.47734156  0.52265841]]\n",
            "[0 1]\n",
            "[[ 0.47983038  0.52016962]]\n",
            "[0 1]\n",
            "[[ 0.4706988   0.52930123]]\n",
            "[0 1]\n",
            "[[ 0.47882715  0.52117282]]\n",
            "[0 1]\n",
            "[[ 0.46105793  0.53894204]]\n",
            "[0 1]\n",
            "[[ 0.476567    0.52343297]]\n",
            "[0 1]\n",
            "[[ 0.4553026   0.54469746]]\n",
            "[0 1]\n",
            "[[ 0.4658066   0.53419334]]\n",
            "[0 1]\n",
            "[[ 0.45346668  0.54653329]]\n",
            "[0 1]\n",
            "[[ 0.45562413  0.5443759 ]]\n",
            "[0 1]\n",
            "[[ 0.48276493  0.51723504]]\n",
            "[0 1]\n",
            "[[ 0.4871538   0.51284623]]\n",
            "[0 1]\n",
            "[[ 0.46575871  0.53424126]]\n",
            "[0 1]\n",
            "[[ 0.48903877  0.51096123]]\n",
            "[0 1]\n",
            "[[ 0.44676372  0.55323631]]\n",
            "[0 1]\n",
            "[[ 0.47768015  0.52231991]]\n",
            "[0 1]\n",
            "[[ 0.47969601  0.52030402]]\n",
            "[0 1]\n",
            "[[ 0.46346417  0.53653586]]\n",
            "[0 1]\n",
            "[[ 0.4455938   0.55440617]]\n",
            "[0 1]\n",
            "[[ 0.46574363  0.5342564 ]]\n",
            "[0 1]\n",
            "[[ 0.49264356  0.50735646]]\n",
            "[0 1]\n",
            "[[ 0.47878534  0.52121466]]\n",
            "[0 1]\n",
            "[[ 0.47845617  0.52154374]]\n",
            "[1 0]\n",
            "[[ 0.43117157  0.56882846]]\n",
            "[0 1]\n",
            "[[ 0.40626103  0.59373891]]\n",
            "[0 1]\n",
            "[[ 0.45563313  0.54436684]]\n",
            "[0 1]\n",
            "[[ 0.43830699  0.56169301]]\n",
            "[0 1]\n",
            "[[ 0.42565572  0.57434428]]\n",
            "[0 1]\n",
            "[[ 0.49603578  0.50396425]]\n",
            "[1 0]\n",
            "[[ 0.49172956  0.50827044]]\n",
            "[0 1]\n",
            "[[ 0.43327886  0.56672114]]\n",
            "[0 1]\n",
            "[[ 0.43456328  0.56543672]]\n",
            "[0 1]\n",
            "[[ 0.45190012  0.54809994]]\n",
            "[0 1]\n",
            "[[ 0.47590959  0.52409041]]\n",
            "[0 1]\n",
            "[[ 0.4760066   0.52399337]]\n",
            "[0 1]\n",
            "[[ 0.44831458  0.55168539]]\n",
            "[0 1]\n",
            "[[ 0.49336067  0.5066393 ]]\n",
            "[0 1]\n",
            "[[ 0.47573704  0.52426296]]\n",
            "[0 1]\n",
            "[[ 0.48829207  0.5117079 ]]\n",
            "[0 1]\n",
            "[[ 0.44006562  0.55993438]]\n",
            "[0 1]\n",
            "[[ 0.44449884  0.5555011 ]]\n",
            "[0 1]\n",
            "[[ 0.49022117  0.50977886]]\n",
            "[1 0]\n",
            "[[ 0.50428933  0.49571064]]\n",
            "[0 1]\n",
            "[[ 0.47923145  0.52076852]]\n",
            "[0 1]\n",
            "[[ 0.46545833  0.53454167]]\n",
            "[0 1]\n",
            "[[ 0.4349533   0.56504667]]\n",
            "[1 0]\n",
            "[[ 0.48983297  0.510167  ]]\n",
            "[0 1]\n",
            "[[ 0.48423746  0.51576251]]\n",
            "[1 0]\n",
            "[[ 0.48082602  0.51917398]]\n",
            "[1 0]\n",
            "[[ 0.45670697  0.54329306]]\n",
            "[0 1]\n",
            "[[ 0.44789895  0.55210096]]\n",
            "[0 1]\n",
            "[[ 0.4717195  0.5282805]]\n",
            "[0 1]\n",
            "[[ 0.49317649  0.50682348]]\n",
            "[0 1]\n",
            "[[ 0.44043255  0.55956745]]\n",
            "[0 1]\n",
            "[[ 0.45438904  0.54561096]]\n",
            "[0 1]\n",
            "[[ 0.47895947  0.5210405 ]]\n",
            "[1 0]\n",
            "[[ 0.4876292   0.51237077]]\n",
            "[0 1]\n",
            "[[ 0.47703311  0.52296692]]\n",
            "[0 1]\n",
            "[[ 0.4625124   0.53748763]]\n",
            "[1 0]\n",
            "[[ 0.47916761  0.52083242]]\n",
            "[0 1]\n",
            "[[ 0.45706591  0.54293412]]\n",
            "[1 0]\n",
            "[[ 0.46618563  0.53381437]]\n",
            "[0 1]\n",
            "[[ 0.43298072  0.56701928]]\n",
            "[0 1]\n",
            "[[ 0.43012872  0.56987119]]\n",
            "[0 1]\n",
            "[[ 0.5022046   0.49779537]]\n",
            "[1 0]\n",
            "[[ 0.42218897  0.577811  ]]\n",
            "[0 1]\n",
            "[[ 0.4976885   0.50231141]]\n",
            "[0 1]\n",
            "[[ 0.44839358  0.55160642]]\n",
            "[0 1]\n",
            "[[ 0.40660352  0.59339643]]\n",
            "[0 1]\n",
            "[[ 0.43560505  0.56439495]]\n",
            "[0 1]\n",
            "[[ 0.45240572  0.54759431]]\n",
            "[0 1]\n",
            "[[ 0.43690765  0.56309229]]\n",
            "[0 1]\n",
            "[[ 0.44443652  0.55556345]]\n",
            "[0 1]\n",
            "[[ 0.45215777  0.5478422 ]]\n",
            "[0 1]\n",
            "[[ 0.48463774  0.51536232]]\n",
            "[1 0]\n",
            "[[ 0.40785173  0.59214824]]\n",
            "[0 1]\n",
            "[[ 0.41979137  0.5802086 ]]\n",
            "[0 1]\n",
            "[[ 0.4576045   0.54239547]]\n",
            "[0 1]\n",
            "[[ 0.48367691  0.51632315]]\n",
            "[0 1]\n",
            "[[ 0.43738329  0.56261671]]\n",
            "[0 1]\n",
            "[[ 0.49393269  0.50606722]]\n",
            "[0 1]\n",
            "[[ 0.46221897  0.53778106]]\n",
            "[0 1]\n",
            "[[ 0.47879311  0.52120697]]\n",
            "[0 1]\n",
            "[[ 0.45237577  0.54762423]]\n",
            "[1 0]\n",
            "[[ 0.46208897  0.537911  ]]\n",
            "[0 1]\n",
            "[[ 0.45443374  0.54556632]]\n",
            "[0 1]\n",
            "[[ 0.43352503  0.56647497]]\n",
            "[1 0]\n",
            "[[ 0.44766071  0.55233932]]\n",
            "[0 1]\n",
            "[[ 0.4583151   0.54168499]]\n",
            "[0 1]\n",
            "[[ 0.42753395  0.57246602]]\n",
            "[0 1]\n",
            "[[ 0.48048517  0.51951474]]\n",
            "[0 1]\n",
            "[[ 0.42988431  0.57011575]]\n",
            "[0 1]\n",
            "[[ 0.45809054  0.5419094 ]]\n",
            "[0 1]\n",
            "[[ 0.46352127  0.5364787 ]]\n",
            "[0 1]\n",
            "[[ 0.43063328  0.56936675]]\n",
            "[1 0]\n",
            "[[ 0.4181155   0.58188444]]\n",
            "[0 1]\n",
            "[[ 0.47650403  0.52349597]]\n",
            "[0 1]\n",
            "[[ 0.45704436  0.54295564]]\n",
            "[0 1]\n",
            "[[ 0.43908525  0.56091481]]\n",
            "[1 0]\n",
            "[[ 0.48800316  0.51199681]]\n",
            "[0 1]\n",
            "[[ 0.47949278  0.52050722]]\n",
            "[0 1]\n",
            "[[ 0.43957883  0.56042117]]\n",
            "[0 1]\n",
            "[[ 0.43067262  0.56932735]]\n",
            "[0 1]\n",
            "[[ 0.47971416  0.5202859 ]]\n",
            "[0 1]\n",
            "[[ 0.48602509  0.51397491]]\n",
            "[0 1]\n",
            "[[ 0.44002876  0.55997127]]\n",
            "[0 1]\n",
            "[[ 0.49106675  0.50893325]]\n",
            "[0 1]\n",
            "[[ 0.50190216  0.49809787]]\n",
            "[0 1]\n",
            "[[ 0.47208112  0.52791882]]\n",
            "[0 1]\n",
            "[[ 0.48987615  0.51012385]]\n",
            "[0 1]\n",
            "[[ 0.47883725  0.52116269]]\n",
            "[0 1]\n",
            "[[ 0.47887233  0.52112764]]\n",
            "[0 1]\n",
            "[[ 0.49893323  0.50106674]]\n",
            "[0 1]\n",
            "[[ 0.41958714  0.58041286]]\n",
            "[0 1]\n",
            "[[ 0.48861679  0.51138318]]\n",
            "[0 1]\n",
            "[[ 0.42022088  0.57977915]]\n",
            "[0 1]\n",
            "[[ 0.45105758  0.54894239]]\n",
            "[1 0]\n",
            "[[ 0.47110903  0.52889097]]\n",
            "[0 1]\n",
            "[[ 0.48217317  0.5178268 ]]\n",
            "[0 1]\n",
            "[[ 0.48546985  0.51453012]]\n",
            "[0 1]\n",
            "[[ 0.44139668  0.55860329]]\n",
            "[0 1]\n",
            "[[ 0.45719749  0.54280251]]\n",
            "[0 1]\n",
            "[[ 0.42564243  0.57435757]]\n",
            "[0 1]\n",
            "[[ 0.4403224  0.5596776]]\n",
            "[0 1]\n",
            "[[ 0.41870371  0.58129632]]\n",
            "[0 1]\n",
            "[[ 0.44445041  0.55554962]]\n",
            "[0 1]\n",
            "[[ 0.4235982   0.57640189]]\n",
            "[0 1]\n",
            "[[ 0.42205888  0.57794118]]\n",
            "[0 1]\n",
            "[[ 0.43991387  0.56008613]]\n",
            "[0 1]\n",
            "[[ 0.42535886  0.57464117]]\n",
            "[0 1]\n",
            "[[ 0.44351217  0.55648786]]\n",
            "[0 1]\n"
          ],
          "name": "stdout"
        },
        {
          "output_type": "stream",
          "text": [
            "[[ 0.45898774  0.54101223]]\n",
            "[0 1]\n",
            "[[ 0.43498111  0.56501895]]\n",
            "[0 1]\n",
            "[[ 0.46783352  0.53216654]]\n",
            "[0 1]\n",
            "[[ 0.46935496  0.53064501]]\n",
            "[0 1]\n",
            "[[ 0.47076625  0.52923381]]\n",
            "[0 1]\n",
            "[[ 0.43756971  0.56243032]]\n",
            "[0 1]\n",
            "[[ 0.45619521  0.54380476]]\n",
            "[0 1]\n",
            "[[ 0.49004981  0.50995016]]\n",
            "[0 1]\n",
            "[[ 0.47301233  0.52698767]]\n",
            "[1 0]\n",
            "[[ 0.4550077   0.54499227]]\n",
            "[0 1]\n",
            "[[ 0.47195199  0.52804804]]\n",
            "[0 1]\n",
            "[[ 0.4187642   0.58123571]]\n",
            "[0 1]\n",
            "[[ 0.41130325  0.58869672]]\n",
            "[0 1]\n",
            "[[ 0.50030977  0.49969023]]\n",
            "[0 1]\n",
            "[[ 0.4167954   0.58320463]]\n",
            "[0 1]\n",
            "[[ 0.48965871  0.51034135]]\n",
            "[0 1]\n",
            "[[ 0.43381453  0.56618553]]\n",
            "[1 0]\n",
            "[[ 0.45770463  0.54229534]]\n",
            "[0 1]\n",
            "[[ 0.47058684  0.5294131 ]]\n",
            "[0 1]\n",
            "[[ 0.43881345  0.56118649]]\n",
            "[0 1]\n",
            "[[ 0.44644329  0.55355674]]\n",
            "[0 1]\n",
            "[[ 0.43626603  0.56373399]]\n",
            "[0 1]\n",
            "[[ 0.45604759  0.54395241]]\n",
            "[0 1]\n",
            "[[ 0.46246618  0.53753376]]\n",
            "[1 0]\n",
            "[[ 0.43489584  0.56510413]]\n",
            "[0 1]\n",
            "[[ 0.46011424  0.53988576]]\n",
            "[0 1]\n",
            "[[ 0.46550131  0.53449869]]\n",
            "[0 1]\n",
            "[[ 0.43043163  0.56956834]]\n",
            "[0 1]\n",
            "[[ 0.45426863  0.54573137]]\n",
            "[1 0]\n",
            "[[ 0.47644377  0.52355617]]\n",
            "[1 0]\n",
            "[[ 0.47247091  0.52752912]]\n",
            "[0 1]\n",
            "[[ 0.45742032  0.54257971]]\n",
            "[0 1]\n",
            "[[ 0.44664049  0.55335957]]\n",
            "[0 1]\n",
            "[[ 0.49166834  0.50833166]]\n",
            "[0 1]\n",
            "[[ 0.51774234  0.48225772]]\n",
            "[0 1]\n",
            "[[ 0.43431547  0.56568456]]\n",
            "[0 1]\n"
          ],
          "name": "stdout"
        }
      ]
    },
    {
      "metadata": {
        "id": "XvU8x1XDx8_G",
        "colab_type": "code",
        "colab": {}
      },
      "cell_type": "code",
      "source": [
        "import itertools\n",
        "import math\n",
        "from sklearn.metrics import confusion_matrix\n",
        "\n",
        "def print_statistics(cm):\n",
        "    tn, fp, fn, tp = cm.ravel()\n",
        "    # TP\n",
        "    print(\"TP: \" + str(tp))\n",
        "    # TN\n",
        "    print(\"TN: \" + str(tn))\n",
        "    # FP\n",
        "    print(\"FP: \" + str(fp))\n",
        "    # FN\n",
        "    print(\"FN: \" + str(fn))\n",
        "    # TPR\n",
        "    recall = tp/(tp+fn)\n",
        "    print(\"TPR/recall: \" + str(recall))\n",
        "    # TNR\n",
        "    specificity = tn/(tn+fp)\n",
        "    print(\"TNR/specificity: \" + str(specificity))\n",
        "    # PPV\n",
        "    precision = tp/(tp+fp)\n",
        "    print(\"PPV/precision: \" + str(precision))\n",
        "    # NPV\n",
        "    npv = tn/(tn+fn)\n",
        "    print(\"NPV/negative predictive value: \" + str(npv))\n",
        "    # FNR\n",
        "    miss_rate = 1-recall\n",
        "    print(\"FNR/false negative rate: \" + str(miss_rate))\n",
        "    # FPR\n",
        "    fall_out = 1-specificity\n",
        "    print(\"FPR/false positive rate: \" + str(fall_out))\n",
        "    # FDR\n",
        "    fdr = 1-precision\n",
        "    print(\"FDR/false discovery rate: \" + str(fdr))\n",
        "    # FOR\n",
        "    fomr = 1-npv\n",
        "    print(\"FOR/false ommission rate: \" + str(fomr))\n",
        "    # F1\n",
        "    f1 = 2*((precision*recall)/(precision+recall))\n",
        "    print(\"F1 score: \" + str(f1))\n",
        "    # accuracy\n",
        "    acc = (tp+tn)/(tp+tn+fp+fn)\n",
        "    print(\"Accuracy: \" + str(acc))\n",
        "    # Matthews correlation coefficient (MCC)\n",
        "    mcc = (tp*tn-fp*fn)/math.sqrt((tp+fp)*(tp+fn)*(tn+fp)*(tn+fn))\n",
        "    print(\"MCC/Matthews correlation coefficient: \" + str(mcc))\n",
        "    # Informedness or Bookmaker Informedness (BM)\n",
        "    bm = recall+specificity-1\n",
        "    print(\"BM/Bookmaker Informedness: \" + str(bm))\n",
        "    # Markedness (MK)\n",
        "    mk = precision+npv-1\n",
        "    print(\"MK/Markedness: \" + str(mk))\n",
        "    \n",
        "    return fall_out, recall\n",
        "\n",
        "# credit: https://github.com/scikit-learn/scikit-learn/blob/master/examples/model_selection/plot_confusion_matrix.py\n",
        "def plot_confusion_matrix(cm, classes,\n",
        "                          normalize=False,\n",
        "                          title='Confusion matrix',\n",
        "                          cmap=plt.cm.Blues):\n",
        "    plt.imshow(cm, interpolation='nearest', cmap=cmap)\n",
        "    plt.title(title)\n",
        "    #plt.colorbar()\n",
        "    tick_marks = np.arange(len(classes))\n",
        "    plt.xticks(tick_marks, classes, rotation=45)\n",
        "    plt.yticks(tick_marks, classes)\n",
        "    s = [['TN','FP'], ['FN', 'TP']]\n",
        "    #s = [['TP','FN'], ['FP', 'TN']]\n",
        "    fmt = '.2f' if normalize else 'd'\n",
        "    thresh = cm.max() / 2.\n",
        "    for i in range(2):\n",
        "        for j in range(2):\n",
        "            plt.text(j,i, (str(s[i][j])+\" = \"+str(format(cm[i][j],fmt))),horizontalalignment=\"center\",\n",
        "                 color=\"white\" if cm[i, j] > thresh else \"black\")\n",
        "    plt.tight_layout()\n",
        "    plt.ylabel('True label')\n",
        "    plt.xlabel('Predicted label')"
      ],
      "execution_count": 0,
      "outputs": []
    },
    {
      "metadata": {
        "id": "wMBuzR6lx8_J",
        "colab_type": "code",
        "colab": {},
        "outputId": "0b482bc6-9056-4b1b-916c-910186e20593"
      },
      "cell_type": "code",
      "source": [
        "preds, labels = get_predictions(model_from_scratch, X_data, y_data)\n",
        "\n",
        "y_trues = [np.argmax(ii) for ii in labels]\n",
        "y_preds = [np.argmax(ii) for ii in preds]\n",
        "\n",
        "cm = confusion_matrix(y_trues, y_preds)\n",
        "fpr, tpr = print_statistics(cm)\n",
        "\n",
        "plt.figure()\n",
        "plot_confusion_matrix(cm, classes=['Negative','Positive'], title='FROM SCRATCH EMBEDDINGS')\n",
        "plt.show()"
      ],
      "execution_count": 0,
      "outputs": [
        {
          "output_type": "stream",
          "text": [
            "TP: 50\n",
            "TN: 54\n",
            "FP: 4\n",
            "FN: 417\n",
            "TPR/recall: 0.107066381156\n",
            "TNR/specificity: 0.931034482759\n",
            "PPV/precision: 0.925925925926\n",
            "NPV/negative predictive value: 0.114649681529\n",
            "FNR/false negative rate: 0.892933618844\n",
            "FPR/false positive rate: 0.0689655172414\n",
            "FDR/false discovery rate: 0.0740740740741\n",
            "FOR/false ommission rate: 0.885350318471\n",
            "F1 score: 0.191938579655\n",
            "Accuracy: 0.198095238095\n",
            "MCC/Matthews correlation coefficient: 0.0393187702999\n",
            "BM/Bookmaker Informedness: 0.0381008639149\n",
            "MK/Markedness: 0.0405756074546\n"
          ],
          "name": "stdout"
        },
        {
          "output_type": "display_data",
          "data": {
            "image/png": "[encoded data removed]",
            "text/plain": [
              "<matplotlib.figure.Figure at 0x7f8bb7570eb8>"
            ]
          },
          "metadata": {
            "tags": []
          }
        }
      ]
    },
    {
      "metadata": {
        "id": "o0ONjQzkx8_Q",
        "colab_type": "code",
        "colab": {},
        "outputId": "b2e348f3-cd75-4da9-fd2a-1ce6153444d4"
      },
      "cell_type": "code",
      "source": [
        "preds, labels = get_predictions(model_pt_frozen, X_data, y_data)\n",
        "\n",
        "y_trues = [np.argmax(ii) for ii in labels]\n",
        "y_preds = [np.argmax(ii) for ii in preds]\n",
        "\n",
        "cm = confusion_matrix(y_trues, y_preds)\n",
        "fpr, tpr = print_statistics(cm)\n",
        "\n",
        "plt.figure()\n",
        "plot_confusion_matrix(cm, classes=['Negative','Positive'], title='ARABIC EMBEDDINGS - FROZEN')\n",
        "plt.show()"
      ],
      "execution_count": 0,
      "outputs": [
        {
          "output_type": "stream",
          "text": [
            "TP: 1\n",
            "TN: 57\n",
            "FP: 1\n",
            "FN: 466\n",
            "TPR/recall: 0.00214132762313\n",
            "TNR/specificity: 0.98275862069\n",
            "PPV/precision: 0.5\n",
            "NPV/negative predictive value: 0.108986615679\n",
            "FNR/false negative rate: 0.997858672377\n",
            "FPR/false positive rate: 0.0172413793103\n",
            "FDR/false discovery rate: 0.5\n",
            "FOR/false ommission rate: 0.891013384321\n",
            "F1 score: 0.00426439232409\n",
            "Accuracy: 0.110476190476\n",
            "MCC/Matthews correlation coefficient: -0.0768395881928\n",
            "BM/Bookmaker Informedness: -0.0151000516872\n",
            "MK/Markedness: -0.391013384321\n"
          ],
          "name": "stdout"
        },
        {
          "output_type": "display_data",
          "data": {
            "image/png": "[encoded data removed]",
            "text/plain": [
              "<matplotlib.figure.Figure at 0x7f8bb7570b00>"
            ]
          },
          "metadata": {
            "tags": []
          }
        }
      ]
    },
    {
      "metadata": {
        "id": "i0aCUWWbx8_W",
        "colab_type": "code",
        "colab": {},
        "outputId": "b50fc33d-312d-4a74-9aa5-54b52490aed0"
      },
      "cell_type": "code",
      "source": [
        "preds, labels = get_predictions(model_pt_trainable, X_data, y_data)\n",
        "\n",
        "y_trues = [np.argmax(ii) for ii in labels]\n",
        "y_preds = [np.argmax(ii) for ii in preds]\n",
        "\n",
        "cm = confusion_matrix(y_trues, y_preds)\n",
        "fpr, tpr = print_statistics(cm)\n",
        "\n",
        "plt.figure()\n",
        "plot_confusion_matrix(cm, classes=['Negative','Positive'], title='ARABIC EMBEDDINGS - TRAINABLE')\n",
        "plt.show()"
      ],
      "execution_count": 0,
      "outputs": [
        {
          "output_type": "stream",
          "text": [
            "TP: 94\n",
            "TN: 47\n",
            "FP: 11\n",
            "FN: 373\n",
            "TPR/recall: 0.201284796574\n",
            "TNR/specificity: 0.810344827586\n",
            "PPV/precision: 0.895238095238\n",
            "NPV/negative predictive value: 0.111904761905\n",
            "FNR/false negative rate: 0.798715203426\n",
            "FPR/false positive rate: 0.189655172414\n",
            "FDR/false discovery rate: 0.104761904762\n",
            "FOR/false ommission rate: 0.888095238095\n",
            "F1 score: 0.328671328671\n",
            "Accuracy: 0.268571428571\n",
            "MCC/Matthews correlation coefficient: 0.00911420561544\n",
            "BM/Bookmaker Informedness: 0.0116296241601\n",
            "MK/Markedness: 0.00714285714286\n"
          ],
          "name": "stdout"
        },
        {
          "output_type": "display_data",
          "data": {
            "image/png": "[encoded data removed]",
            "text/plain": [
              "<matplotlib.figure.Figure at 0x7f8bb406f7f0>"
            ]
          },
          "metadata": {
            "tags": []
          }
        }
      ]
    },
    {
      "metadata": {
        "id": "00rOvUpjx8_Z",
        "colab_type": "code",
        "colab": {},
        "outputId": "4d8c4255-2bdf-4ac5-d36c-a25c37c0d325"
      },
      "cell_type": "code",
      "source": [
        "preds, labels = get_predictions(model_no_embedding, X_data_enc, y_data)\n",
        "\n",
        "y_trues = [np.argmax(ii) for ii in labels]\n",
        "y_preds = [np.argmax(ii) for ii in preds]\n",
        "\n",
        "cm = confusion_matrix(y_trues, y_preds)\n",
        "fpr, tpr = print_statistics(cm)\n",
        "\n",
        "plt.figure()\n",
        "plot_confusion_matrix(cm, classes=['Negative','Positive'], title='NO EMBEDDING')\n",
        "plt.show()"
      ],
      "execution_count": 0,
      "outputs": [
        {
          "output_type": "stream",
          "text": [
            "TP: 304\n",
            "TN: 19\n",
            "FP: 39\n",
            "FN: 163\n",
            "TPR/recall: 0.65096359743\n",
            "TNR/specificity: 0.327586206897\n",
            "PPV/precision: 0.886297376093\n",
            "NPV/negative predictive value: 0.104395604396\n",
            "FNR/false negative rate: 0.34903640257\n",
            "FPR/false positive rate: 0.672413793103\n",
            "FDR/false discovery rate: 0.113702623907\n",
            "FOR/false ommission rate: 0.895604395604\n",
            "F1 score: 0.750617283951\n",
            "Accuracy: 0.615238095238\n",
            "MCC/Matthews correlation coefficient: -0.0141293095955\n",
            "BM/Bookmaker Informedness: -0.021450195673\n",
            "MK/Markedness: -0.0093070195111\n"
          ],
          "name": "stdout"
        },
        {
          "output_type": "display_data",
          "data": {
            "image/png": "[encoded data removed]",
            "text/plain": [
              "<matplotlib.figure.Figure at 0x7f8bb4036470>"
            ]
          },
          "metadata": {
            "tags": []
          }
        }
      ]
    },
    {
      "metadata": {
        "id": "3s3b41w1x8_g",
        "colab_type": "code",
        "colab": {},
        "outputId": "a969e2c6-b182-42e9-d74c-c155106c8449"
      },
      "cell_type": "code",
      "source": [
        "preds, labels = get_predictions(model_bidirectional, X_data, y_data)\n",
        "\n",
        "y_trues = [np.argmax(ii) for ii in labels]\n",
        "y_preds = [np.argmax(ii) for ii in preds]\n",
        "\n",
        "cm = confusion_matrix(y_trues, y_preds)\n",
        "fpr, tpr = print_statistics(cm)\n",
        "\n",
        "plt.figure()\n",
        "plot_confusion_matrix(cm, classes=['Negative','Positive'], title='BIDIRECTIONAL - ARABIC EMBEDDINGS - TRAINABLE')\n",
        "plt.show()"
      ],
      "execution_count": 0,
      "outputs": [
        {
          "output_type": "stream",
          "text": [
            "TP: 451\n",
            "TN: 3\n",
            "FP: 55\n",
            "FN: 16\n",
            "TPR/recall: 0.96573875803\n",
            "TNR/specificity: 0.051724137931\n",
            "PPV/precision: 0.891304347826\n",
            "NPV/negative predictive value: 0.157894736842\n",
            "FNR/false negative rate: 0.03426124197\n",
            "FPR/false positive rate: 0.948275862069\n",
            "FDR/false discovery rate: 0.108695652174\n",
            "FOR/false ommission rate: 0.842105263158\n",
            "F1 score: 0.927029804728\n",
            "Accuracy: 0.864761904762\n",
            "MCC/Matthews correlation coefficient: 0.0293114055777\n",
            "BM/Bookmaker Informedness: 0.017462895961\n",
            "MK/Markedness: 0.0491990846682\n"
          ],
          "name": "stdout"
        },
        {
          "output_type": "display_data",
          "data": {
            "image/png": "[encoded data removed]",
            "text/plain": [
              "<matplotlib.figure.Figure at 0x7f8bb405a9e8>"
            ]
          },
          "metadata": {
            "tags": []
          }
        }
      ]
    },
    {
      "metadata": {
        "id": "3nNGe697x8_q",
        "colab_type": "code",
        "colab": {},
        "outputId": "9faf2f70-9496-42c7-b696-9c88c723f7ef"
      },
      "cell_type": "code",
      "source": [
        "# requires label shape of (m,)\n",
        "y_train_p = [np.argmax(ii) for ii in y_train]\n",
        "y_train_p = np.array(y_train_p)\n",
        "y_valid_p = [np.argmax(ii) for ii in y_valid]\n",
        "y_valid_p = np.array(y_valid_p)\n",
        "from sklearn.naive_bayes import GaussianNB, MultinomialNB\n",
        "gnb = GaussianNB()\n",
        "y_preds = gnb.fit(X_train, y_train_p).predict(X_valid)\n",
        "y_trues = y_valid_p\n",
        "cm = confusion_matrix(y_trues, y_preds)\n",
        "fpr, tpr = print_statistics(cm)\n",
        "plt.figure()\n",
        "plot_confusion_matrix(cm, classes=['Negative','Positive'], title='GAUSSIAN-NB')\n",
        "plt.show()\n",
        "#print(\"GaussianNB: Number of mislabeled points out of a total %d points : %d\" % (X_valid.shape[0],(y_valid != y_pred).sum()))\n",
        "clf = MultinomialNB()\n",
        "y_preds = clf.fit(X_train, y_train_p).predict(X_valid)\n",
        "y_trues = y_valid_p\n",
        "cm = confusion_matrix(y_trues, y_preds)\n",
        "fpr, tpr = print_statistics(cm)\n",
        "plt.figure()\n",
        "plot_confusion_matrix(cm, classes=['Negative','Positive'], title='MULTINOMIAL-NB')\n",
        "plt.show()\n",
        "#print(\"MultinomialNB: Number of mislabeled points out of a total %d points : %d\" % (X_valid.shape[0],(y_valid != y_pred).sum()))"
      ],
      "execution_count": 0,
      "outputs": [
        {
          "output_type": "stream",
          "text": [
            "TP: 5\n",
            "TN: 89\n",
            "FP: 11\n",
            "FN: 95\n",
            "TPR/recall: 0.05\n",
            "TNR/specificity: 0.89\n",
            "PPV/precision: 0.3125\n",
            "NPV/negative predictive value: 0.483695652174\n",
            "FNR/false negative rate: 0.95\n",
            "FPR/false positive rate: 0.11\n",
            "FDR/false discovery rate: 0.6875\n",
            "FOR/false ommission rate: 0.516304347826\n",
            "F1 score: 0.0862068965517\n",
            "Accuracy: 0.47\n",
            "MCC/Matthews correlation coefficient: -0.110581467116\n",
            "BM/Bookmaker Informedness: -0.06\n",
            "MK/Markedness: -0.203804347826\n"
          ],
          "name": "stdout"
        },
        {
          "output_type": "display_data",
          "data": {
            "image/png": "[encoded data removed]",
            "text/plain": [
              "<matplotlib.figure.Figure at 0x7f8ad1fc4b38>"
            ]
          },
          "metadata": {
            "tags": []
          }
        },
        {
          "output_type": "stream",
          "text": [
            "TP: 26\n",
            "TN: 74\n",
            "FP: 26\n",
            "FN: 74\n",
            "TPR/recall: 0.26\n",
            "TNR/specificity: 0.74\n",
            "PPV/precision: 0.5\n",
            "NPV/negative predictive value: 0.5\n",
            "FNR/false negative rate: 0.74\n",
            "FPR/false positive rate: 0.26\n",
            "FDR/false discovery rate: 0.5\n",
            "FOR/false ommission rate: 0.5\n",
            "F1 score: 0.342105263158\n",
            "Accuracy: 0.5\n",
            "MCC/Matthews correlation coefficient: 0.0\n",
            "BM/Bookmaker Informedness: 0.0\n",
            "MK/Markedness: 0.0\n"
          ],
          "name": "stdout"
        },
        {
          "output_type": "display_data",
          "data": {
            "image/png": "[encoded data removed]",
            "text/plain": [
              "<matplotlib.figure.Figure at 0x7f8ad1f7b518>"
            ]
          },
          "metadata": {
            "tags": []
          }
        }
      ]
    },
    {
      "metadata": {
        "id": "sEyxc3vZx86n",
        "colab_type": "text"
      },
      "cell_type": "markdown",
      "source": [
        "#### More Information ####\n",
        "\n",
        "__[fastText](https://fasttext.cc/)__:\n",
        " - 2016, Mikolov [1] (same person who created word2vec)\n",
        " - Learning is \"fast\"\n",
        " - Pre-trained word vectors via Facebook Research (https://github.com/facebookresearch/fastText/blob/master/pretrained-vectors.md)\n",
        "  - Pre-trained word vectors for 294 languages, trained on Wikipedia using fastText. These vectors in dimension 300 were obtained using the skip-gram model described in __[Bojanowski et al. (2016)](https://arxiv.org/abs/1607.04606)__ with default parameters.\n",
        " \n",
        " \n",
        " 1. P. Bojanowski*, E. Grave*, A. Joulin, T. Mikolov, __[Enriching Word Vectors with Subword Information](https://arxiv.org/abs/1607.04606)__\n",
        " \n",
        "__[GloVe](http://nlp.stanford.edu/projects/glove/)__:\n",
        " - 2014, Stanford NLP\n",
        " \n",
        "__[word2vec](https://code.google.com/archive/p/word2vec/)__:\n",
        " - 2013, Mikolov\n",
        "\n",
        "__[How is GloVe different from word2vec?](https://www.quora.com/How-is-GloVe-different-from-word2vec)__: TL;DR\n",
        " - Perform roughtly the same function, but are built differently (Word2Vec is a \"predictive\" Feed-Fwd NN w/ SGD)\n",
        " - GloVe is result of Stanford NLP wanting to build on the Word2Vec concept of \"semantic analogies\" and yet retain \"intrinsic statistical properties of the corpus\" (i.e., \"word occurrence statistics\")\n",
        "\n",
        "__[GloVe vs word2vec revisited.](http://dsnotes.com/post/glove-enwiki/)__: TL;DR\n",
        " - Results are similar enough (maybe GloVe is slightly more accurate)\n",
        " - Trade-off: GloVe uses A LOT of RAM/Memory (on order of 15x more!); Word2Vec is 2x slower"
      ]
    },
    {
      "metadata": {
        "id": "lhcbg97T7PIt",
        "colab_type": "code",
        "colab": {}
      },
      "cell_type": "code",
      "source": [
        ""
      ],
      "execution_count": 0,
      "outputs": []
    }
  ]
}